{
  "nbformat": 4,
  "nbformat_minor": 0,
  "metadata": {
    "colab": {
      "provenance": []
    },
    "kernelspec": {
      "name": "python3",
      "display_name": "Python 3"
    },
    "language_info": {
      "name": "python"
    }
  },
  "cells": [
    {
      "cell_type": "markdown",
      "source": [
        "# Taller N° 1\n",
        "**Integrantes:**  \n",
        "1. Fernando Oliveros\n",
        "2. George Otiz\n",
        "\n",
        "**TEMA:** Educación.\n",
        "\n",
        "EL siguiente conjunto de datos contiene la matrícula estadística de Educación Preescolar Básica y Media de Colombia del corte 2018 y 2021 oficiales definitivas en el departamento de Boyaca. La importacia que esta tiene es para medir los niveles de crecimiento que han tenido las instituciones teniendo encuenta el rango edad grado, ademas de la cantidad de estudiantes que ingresaron cada año a las instituciones del departamento.\n",
        "\n"
      ],
      "metadata": {
        "id": "eGmDyj0Xm9bk"
      }
    },
    {
      "cell_type": "markdown",
      "source": [
        "**ANALISIS DE LOS DATOS**\n",
        "\n",
        "El analisis de datos nos sirve para la extración de información útil. La utilizamos para descrubir patrones, tendencias y relaciones en los datos.\n",
        "Archivo csv lo extraimos de la pagina Datos abiertos"
      ],
      "metadata": {
        "id": "v-hTCM907zDw"
      }
    },
    {
      "cell_type": "markdown",
      "source": [
        "**LIBRERIAS USADAS**\n",
        "\n",
        "Importación de librerías que nos ayudaran con las graficas y tablas realizadas en nuestro proyecto."
      ],
      "metadata": {
        "id": "8RRqVnip7bGc"
      }
    },
    {
      "cell_type": "code",
      "execution_count": null,
      "metadata": {
        "id": "eStZ4fvoLUe4"
      },
      "outputs": [],
      "source": [
        "import pandas as pd\n",
        "import numpy as np\n",
        "from sklearn.linear_model import LinearRegression\n",
        "from sklearn.model_selection import train_test_split\n",
        "from sklearn.metrics import r2_score\n",
        "import plotly.express as px\n",
        "import seaborn as sns\n",
        "from matplotlib import pyplot as plt\n"
      ]
    },
    {
      "cell_type": "markdown",
      "source": [
        "**LECTURA DEL CSV**\n",
        "\n",
        "Con el siguiente codigo pd.read_csv y el nombre del archivo llamamos al data que utilizaremos"
      ],
      "metadata": {
        "id": "CcxBHBiQ78pj"
      }
    },
    {
      "cell_type": "code",
      "source": [
        "original_df = pd.read_csv('MATRICULAS_2021.csv')\n",
        "original_df"
      ],
      "metadata": {
        "colab": {
          "base_uri": "https://localhost:8080/",
          "height": 661
        },
        "id": "HKGWmOiwKsBf",
        "outputId": "ec78352b-cd94-4045-af15-e21c73cb1f95"
      },
      "execution_count": null,
      "outputs": [
        {
          "output_type": "execute_result",
          "data": {
            "text/plain": [
              "     ANNO_INF  COD_DANE_DEPARTAMENTO DEPARTAMENTO  COD_SECRETARIA SECRETARIA  \\\n",
              "0        2019                     15       BOYACÁ            3769     BOYACÁ   \n",
              "1        2019                     15       BOYACÁ            3769     BOYACÁ   \n",
              "2        2019                     15       BOYACÁ            3769     BOYACÁ   \n",
              "3        2019                     15       BOYACÁ            3769     BOYACÁ   \n",
              "4        2019                     15       BOYACÁ            3769     BOYACÁ   \n",
              "..        ...                    ...          ...             ...        ...   \n",
              "670      2021                     15       BOYACÁ            3769     BOYACÁ   \n",
              "671      2021                     15       BOYACÁ            3769     BOYACÁ   \n",
              "672      2021                     15       BOYACÁ            3769     BOYACÁ   \n",
              "673      2021                     15       BOYACÁ            3769     BOYACÁ   \n",
              "674      2021                     15       BOYACÁ            3769     BOYACÁ   \n",
              "\n",
              "     COD_DANE_MUNICIPIO MUNICIPIO   CODIGO_DANE       NOMBRE_ESTABLECIMIENTO  \\\n",
              "0                 15106   BRICEÑO  215106000171  I.E. TECNICA MANUEL BRICEÑO   \n",
              "1                 15106   BRICEÑO  215106000049  I.E. TECNICA MANUEL BRICEÑO   \n",
              "2                 15106   BRICEÑO  215106000073  I.E. TECNICA MANUEL BRICEÑO   \n",
              "3                 15106   BRICEÑO  215106000103  I.E. TECNICA MANUEL BRICEÑO   \n",
              "4                 15106   BRICEÑO  215106000111  I.E. TECNICA MANUEL BRICEÑO   \n",
              "..                  ...       ...           ...                          ...   \n",
              "670               15106   BRICEÑO  315106000124  I.E. TECNICA MANUEL BRICEÑO   \n",
              "671               15106   BRICEÑO  315106000124  I.E. TECNICA MANUEL BRICEÑO   \n",
              "672               15106   BRICEÑO  315106000124  I.E. TECNICA MANUEL BRICEÑO   \n",
              "673               15106   BRICEÑO  315106000124  I.E. TECNICA MANUEL BRICEÑO   \n",
              "674               15106   BRICEÑO  315106000124  I.E. TECNICA MANUEL BRICEÑO   \n",
              "\n",
              "     COD_SECTOR  ... COD_ESPECIALIDAD  ESPECIALIDAD EDAD  COD_GENERO  \\\n",
              "0          1001  ...                0     No aplica    7           M   \n",
              "1          1001  ...                0     No aplica    7           M   \n",
              "2          1001  ...                0     No aplica    7           F   \n",
              "3          1001  ...                0     No aplica    7           F   \n",
              "4          1001  ...                0     No aplica    7           M   \n",
              "..          ...  ...              ...           ...  ...         ...   \n",
              "670        1001  ...               10  Agropecuario   17           M   \n",
              "671        1001  ...               10  Agropecuario   16           M   \n",
              "672        1001  ...               10  Agropecuario   16           F   \n",
              "673        1001  ...               10  Agropecuario   15           M   \n",
              "674        1001  ...               10  Agropecuario   15           F   \n",
              "\n",
              "        GENERO  COD_GRUPO_ETNICO GRUPO_ETNICO  COD_SECTOR_CONPES  \\\n",
              "0    Masculino                 0    No aplica                  1   \n",
              "1    Masculino                 0    No aplica                  1   \n",
              "2     Femenino                 0    No aplica                  1   \n",
              "3     Femenino                 0    No aplica                  1   \n",
              "4    Masculino                 0    No aplica                  1   \n",
              "..         ...               ...          ...                ...   \n",
              "670  Masculino                 0    No aplica                  1   \n",
              "671  Masculino                 0    No aplica                  1   \n",
              "672   Femenino                 0    No aplica                  1   \n",
              "673  Masculino                 0    No aplica                  1   \n",
              "674   Femenino                 0    No aplica                  1   \n",
              "\n",
              "    SECTOR_CONPES  TOTAL_MATRICULA  \n",
              "0         OFICIAL                1  \n",
              "1         OFICIAL                1  \n",
              "2         OFICIAL                1  \n",
              "3         OFICIAL                2  \n",
              "4         OFICIAL                1  \n",
              "..            ...              ...  \n",
              "670       OFICIAL                1  \n",
              "671       OFICIAL                4  \n",
              "672       OFICIAL                2  \n",
              "673       OFICIAL                3  \n",
              "674       OFICIAL                6  \n",
              "\n",
              "[675 rows x 35 columns]"
            ],
            "text/html": [
              "\n",
              "  <div id=\"df-57de4e5f-d0e8-4bda-83d1-90e867f865d5\">\n",
              "    <div class=\"colab-df-container\">\n",
              "      <div>\n",
              "<style scoped>\n",
              "    .dataframe tbody tr th:only-of-type {\n",
              "        vertical-align: middle;\n",
              "    }\n",
              "\n",
              "    .dataframe tbody tr th {\n",
              "        vertical-align: top;\n",
              "    }\n",
              "\n",
              "    .dataframe thead th {\n",
              "        text-align: right;\n",
              "    }\n",
              "</style>\n",
              "<table border=\"1\" class=\"dataframe\">\n",
              "  <thead>\n",
              "    <tr style=\"text-align: right;\">\n",
              "      <th></th>\n",
              "      <th>ANNO_INF</th>\n",
              "      <th>COD_DANE_DEPARTAMENTO</th>\n",
              "      <th>DEPARTAMENTO</th>\n",
              "      <th>COD_SECRETARIA</th>\n",
              "      <th>SECRETARIA</th>\n",
              "      <th>COD_DANE_MUNICIPIO</th>\n",
              "      <th>MUNICIPIO</th>\n",
              "      <th>CODIGO_DANE</th>\n",
              "      <th>NOMBRE_ESTABLECIMIENTO</th>\n",
              "      <th>COD_SECTOR</th>\n",
              "      <th>...</th>\n",
              "      <th>COD_ESPECIALIDAD</th>\n",
              "      <th>ESPECIALIDAD</th>\n",
              "      <th>EDAD</th>\n",
              "      <th>COD_GENERO</th>\n",
              "      <th>GENERO</th>\n",
              "      <th>COD_GRUPO_ETNICO</th>\n",
              "      <th>GRUPO_ETNICO</th>\n",
              "      <th>COD_SECTOR_CONPES</th>\n",
              "      <th>SECTOR_CONPES</th>\n",
              "      <th>TOTAL_MATRICULA</th>\n",
              "    </tr>\n",
              "  </thead>\n",
              "  <tbody>\n",
              "    <tr>\n",
              "      <th>0</th>\n",
              "      <td>2019</td>\n",
              "      <td>15</td>\n",
              "      <td>BOYACÁ</td>\n",
              "      <td>3769</td>\n",
              "      <td>BOYACÁ</td>\n",
              "      <td>15106</td>\n",
              "      <td>BRICEÑO</td>\n",
              "      <td>215106000171</td>\n",
              "      <td>I.E. TECNICA MANUEL BRICEÑO</td>\n",
              "      <td>1001</td>\n",
              "      <td>...</td>\n",
              "      <td>0</td>\n",
              "      <td>No aplica</td>\n",
              "      <td>7</td>\n",
              "      <td>M</td>\n",
              "      <td>Masculino</td>\n",
              "      <td>0</td>\n",
              "      <td>No aplica</td>\n",
              "      <td>1</td>\n",
              "      <td>OFICIAL</td>\n",
              "      <td>1</td>\n",
              "    </tr>\n",
              "    <tr>\n",
              "      <th>1</th>\n",
              "      <td>2019</td>\n",
              "      <td>15</td>\n",
              "      <td>BOYACÁ</td>\n",
              "      <td>3769</td>\n",
              "      <td>BOYACÁ</td>\n",
              "      <td>15106</td>\n",
              "      <td>BRICEÑO</td>\n",
              "      <td>215106000049</td>\n",
              "      <td>I.E. TECNICA MANUEL BRICEÑO</td>\n",
              "      <td>1001</td>\n",
              "      <td>...</td>\n",
              "      <td>0</td>\n",
              "      <td>No aplica</td>\n",
              "      <td>7</td>\n",
              "      <td>M</td>\n",
              "      <td>Masculino</td>\n",
              "      <td>0</td>\n",
              "      <td>No aplica</td>\n",
              "      <td>1</td>\n",
              "      <td>OFICIAL</td>\n",
              "      <td>1</td>\n",
              "    </tr>\n",
              "    <tr>\n",
              "      <th>2</th>\n",
              "      <td>2019</td>\n",
              "      <td>15</td>\n",
              "      <td>BOYACÁ</td>\n",
              "      <td>3769</td>\n",
              "      <td>BOYACÁ</td>\n",
              "      <td>15106</td>\n",
              "      <td>BRICEÑO</td>\n",
              "      <td>215106000073</td>\n",
              "      <td>I.E. TECNICA MANUEL BRICEÑO</td>\n",
              "      <td>1001</td>\n",
              "      <td>...</td>\n",
              "      <td>0</td>\n",
              "      <td>No aplica</td>\n",
              "      <td>7</td>\n",
              "      <td>F</td>\n",
              "      <td>Femenino</td>\n",
              "      <td>0</td>\n",
              "      <td>No aplica</td>\n",
              "      <td>1</td>\n",
              "      <td>OFICIAL</td>\n",
              "      <td>1</td>\n",
              "    </tr>\n",
              "    <tr>\n",
              "      <th>3</th>\n",
              "      <td>2019</td>\n",
              "      <td>15</td>\n",
              "      <td>BOYACÁ</td>\n",
              "      <td>3769</td>\n",
              "      <td>BOYACÁ</td>\n",
              "      <td>15106</td>\n",
              "      <td>BRICEÑO</td>\n",
              "      <td>215106000103</td>\n",
              "      <td>I.E. TECNICA MANUEL BRICEÑO</td>\n",
              "      <td>1001</td>\n",
              "      <td>...</td>\n",
              "      <td>0</td>\n",
              "      <td>No aplica</td>\n",
              "      <td>7</td>\n",
              "      <td>F</td>\n",
              "      <td>Femenino</td>\n",
              "      <td>0</td>\n",
              "      <td>No aplica</td>\n",
              "      <td>1</td>\n",
              "      <td>OFICIAL</td>\n",
              "      <td>2</td>\n",
              "    </tr>\n",
              "    <tr>\n",
              "      <th>4</th>\n",
              "      <td>2019</td>\n",
              "      <td>15</td>\n",
              "      <td>BOYACÁ</td>\n",
              "      <td>3769</td>\n",
              "      <td>BOYACÁ</td>\n",
              "      <td>15106</td>\n",
              "      <td>BRICEÑO</td>\n",
              "      <td>215106000111</td>\n",
              "      <td>I.E. TECNICA MANUEL BRICEÑO</td>\n",
              "      <td>1001</td>\n",
              "      <td>...</td>\n",
              "      <td>0</td>\n",
              "      <td>No aplica</td>\n",
              "      <td>7</td>\n",
              "      <td>M</td>\n",
              "      <td>Masculino</td>\n",
              "      <td>0</td>\n",
              "      <td>No aplica</td>\n",
              "      <td>1</td>\n",
              "      <td>OFICIAL</td>\n",
              "      <td>1</td>\n",
              "    </tr>\n",
              "    <tr>\n",
              "      <th>...</th>\n",
              "      <td>...</td>\n",
              "      <td>...</td>\n",
              "      <td>...</td>\n",
              "      <td>...</td>\n",
              "      <td>...</td>\n",
              "      <td>...</td>\n",
              "      <td>...</td>\n",
              "      <td>...</td>\n",
              "      <td>...</td>\n",
              "      <td>...</td>\n",
              "      <td>...</td>\n",
              "      <td>...</td>\n",
              "      <td>...</td>\n",
              "      <td>...</td>\n",
              "      <td>...</td>\n",
              "      <td>...</td>\n",
              "      <td>...</td>\n",
              "      <td>...</td>\n",
              "      <td>...</td>\n",
              "      <td>...</td>\n",
              "      <td>...</td>\n",
              "    </tr>\n",
              "    <tr>\n",
              "      <th>670</th>\n",
              "      <td>2021</td>\n",
              "      <td>15</td>\n",
              "      <td>BOYACÁ</td>\n",
              "      <td>3769</td>\n",
              "      <td>BOYACÁ</td>\n",
              "      <td>15106</td>\n",
              "      <td>BRICEÑO</td>\n",
              "      <td>315106000124</td>\n",
              "      <td>I.E. TECNICA MANUEL BRICEÑO</td>\n",
              "      <td>1001</td>\n",
              "      <td>...</td>\n",
              "      <td>10</td>\n",
              "      <td>Agropecuario</td>\n",
              "      <td>17</td>\n",
              "      <td>M</td>\n",
              "      <td>Masculino</td>\n",
              "      <td>0</td>\n",
              "      <td>No aplica</td>\n",
              "      <td>1</td>\n",
              "      <td>OFICIAL</td>\n",
              "      <td>1</td>\n",
              "    </tr>\n",
              "    <tr>\n",
              "      <th>671</th>\n",
              "      <td>2021</td>\n",
              "      <td>15</td>\n",
              "      <td>BOYACÁ</td>\n",
              "      <td>3769</td>\n",
              "      <td>BOYACÁ</td>\n",
              "      <td>15106</td>\n",
              "      <td>BRICEÑO</td>\n",
              "      <td>315106000124</td>\n",
              "      <td>I.E. TECNICA MANUEL BRICEÑO</td>\n",
              "      <td>1001</td>\n",
              "      <td>...</td>\n",
              "      <td>10</td>\n",
              "      <td>Agropecuario</td>\n",
              "      <td>16</td>\n",
              "      <td>M</td>\n",
              "      <td>Masculino</td>\n",
              "      <td>0</td>\n",
              "      <td>No aplica</td>\n",
              "      <td>1</td>\n",
              "      <td>OFICIAL</td>\n",
              "      <td>4</td>\n",
              "    </tr>\n",
              "    <tr>\n",
              "      <th>672</th>\n",
              "      <td>2021</td>\n",
              "      <td>15</td>\n",
              "      <td>BOYACÁ</td>\n",
              "      <td>3769</td>\n",
              "      <td>BOYACÁ</td>\n",
              "      <td>15106</td>\n",
              "      <td>BRICEÑO</td>\n",
              "      <td>315106000124</td>\n",
              "      <td>I.E. TECNICA MANUEL BRICEÑO</td>\n",
              "      <td>1001</td>\n",
              "      <td>...</td>\n",
              "      <td>10</td>\n",
              "      <td>Agropecuario</td>\n",
              "      <td>16</td>\n",
              "      <td>F</td>\n",
              "      <td>Femenino</td>\n",
              "      <td>0</td>\n",
              "      <td>No aplica</td>\n",
              "      <td>1</td>\n",
              "      <td>OFICIAL</td>\n",
              "      <td>2</td>\n",
              "    </tr>\n",
              "    <tr>\n",
              "      <th>673</th>\n",
              "      <td>2021</td>\n",
              "      <td>15</td>\n",
              "      <td>BOYACÁ</td>\n",
              "      <td>3769</td>\n",
              "      <td>BOYACÁ</td>\n",
              "      <td>15106</td>\n",
              "      <td>BRICEÑO</td>\n",
              "      <td>315106000124</td>\n",
              "      <td>I.E. TECNICA MANUEL BRICEÑO</td>\n",
              "      <td>1001</td>\n",
              "      <td>...</td>\n",
              "      <td>10</td>\n",
              "      <td>Agropecuario</td>\n",
              "      <td>15</td>\n",
              "      <td>M</td>\n",
              "      <td>Masculino</td>\n",
              "      <td>0</td>\n",
              "      <td>No aplica</td>\n",
              "      <td>1</td>\n",
              "      <td>OFICIAL</td>\n",
              "      <td>3</td>\n",
              "    </tr>\n",
              "    <tr>\n",
              "      <th>674</th>\n",
              "      <td>2021</td>\n",
              "      <td>15</td>\n",
              "      <td>BOYACÁ</td>\n",
              "      <td>3769</td>\n",
              "      <td>BOYACÁ</td>\n",
              "      <td>15106</td>\n",
              "      <td>BRICEÑO</td>\n",
              "      <td>315106000124</td>\n",
              "      <td>I.E. TECNICA MANUEL BRICEÑO</td>\n",
              "      <td>1001</td>\n",
              "      <td>...</td>\n",
              "      <td>10</td>\n",
              "      <td>Agropecuario</td>\n",
              "      <td>15</td>\n",
              "      <td>F</td>\n",
              "      <td>Femenino</td>\n",
              "      <td>0</td>\n",
              "      <td>No aplica</td>\n",
              "      <td>1</td>\n",
              "      <td>OFICIAL</td>\n",
              "      <td>6</td>\n",
              "    </tr>\n",
              "  </tbody>\n",
              "</table>\n",
              "<p>675 rows × 35 columns</p>\n",
              "</div>\n",
              "      <button class=\"colab-df-convert\" onclick=\"convertToInteractive('df-57de4e5f-d0e8-4bda-83d1-90e867f865d5')\"\n",
              "              title=\"Convert this dataframe to an interactive table.\"\n",
              "              style=\"display:none;\">\n",
              "        \n",
              "  <svg xmlns=\"http://www.w3.org/2000/svg\" height=\"24px\"viewBox=\"0 0 24 24\"\n",
              "       width=\"24px\">\n",
              "    <path d=\"M0 0h24v24H0V0z\" fill=\"none\"/>\n",
              "    <path d=\"M18.56 5.44l.94 2.06.94-2.06 2.06-.94-2.06-.94-.94-2.06-.94 2.06-2.06.94zm-11 1L8.5 8.5l.94-2.06 2.06-.94-2.06-.94L8.5 2.5l-.94 2.06-2.06.94zm10 10l.94 2.06.94-2.06 2.06-.94-2.06-.94-.94-2.06-.94 2.06-2.06.94z\"/><path d=\"M17.41 7.96l-1.37-1.37c-.4-.4-.92-.59-1.43-.59-.52 0-1.04.2-1.43.59L10.3 9.45l-7.72 7.72c-.78.78-.78 2.05 0 2.83L4 21.41c.39.39.9.59 1.41.59.51 0 1.02-.2 1.41-.59l7.78-7.78 2.81-2.81c.8-.78.8-2.07 0-2.86zM5.41 20L4 18.59l7.72-7.72 1.47 1.35L5.41 20z\"/>\n",
              "  </svg>\n",
              "      </button>\n",
              "      \n",
              "  <style>\n",
              "    .colab-df-container {\n",
              "      display:flex;\n",
              "      flex-wrap:wrap;\n",
              "      gap: 12px;\n",
              "    }\n",
              "\n",
              "    .colab-df-convert {\n",
              "      background-color: #E8F0FE;\n",
              "      border: none;\n",
              "      border-radius: 50%;\n",
              "      cursor: pointer;\n",
              "      display: none;\n",
              "      fill: #1967D2;\n",
              "      height: 32px;\n",
              "      padding: 0 0 0 0;\n",
              "      width: 32px;\n",
              "    }\n",
              "\n",
              "    .colab-df-convert:hover {\n",
              "      background-color: #E2EBFA;\n",
              "      box-shadow: 0px 1px 2px rgba(60, 64, 67, 0.3), 0px 1px 3px 1px rgba(60, 64, 67, 0.15);\n",
              "      fill: #174EA6;\n",
              "    }\n",
              "\n",
              "    [theme=dark] .colab-df-convert {\n",
              "      background-color: #3B4455;\n",
              "      fill: #D2E3FC;\n",
              "    }\n",
              "\n",
              "    [theme=dark] .colab-df-convert:hover {\n",
              "      background-color: #434B5C;\n",
              "      box-shadow: 0px 1px 3px 1px rgba(0, 0, 0, 0.15);\n",
              "      filter: drop-shadow(0px 1px 2px rgba(0, 0, 0, 0.3));\n",
              "      fill: #FFFFFF;\n",
              "    }\n",
              "  </style>\n",
              "\n",
              "      <script>\n",
              "        const buttonEl =\n",
              "          document.querySelector('#df-57de4e5f-d0e8-4bda-83d1-90e867f865d5 button.colab-df-convert');\n",
              "        buttonEl.style.display =\n",
              "          google.colab.kernel.accessAllowed ? 'block' : 'none';\n",
              "\n",
              "        async function convertToInteractive(key) {\n",
              "          const element = document.querySelector('#df-57de4e5f-d0e8-4bda-83d1-90e867f865d5');\n",
              "          const dataTable =\n",
              "            await google.colab.kernel.invokeFunction('convertToInteractive',\n",
              "                                                     [key], {});\n",
              "          if (!dataTable) return;\n",
              "\n",
              "          const docLinkHtml = 'Like what you see? Visit the ' +\n",
              "            '<a target=\"_blank\" href=https://colab.research.google.com/notebooks/data_table.ipynb>data table notebook</a>'\n",
              "            + ' to learn more about interactive tables.';\n",
              "          element.innerHTML = '';\n",
              "          dataTable['output_type'] = 'display_data';\n",
              "          await google.colab.output.renderOutput(dataTable, element);\n",
              "          const docLink = document.createElement('div');\n",
              "          docLink.innerHTML = docLinkHtml;\n",
              "          element.appendChild(docLink);\n",
              "        }\n",
              "      </script>\n",
              "    </div>\n",
              "  </div>\n",
              "  "
            ]
          },
          "metadata": {},
          "execution_count": 46
        }
      ]
    },
    {
      "cell_type": "markdown",
      "source": [
        "Una vez hayamos cargado los datos y usamos la función \"head\" lo que nos permitira mostrar los primeros 5 datos."
      ],
      "metadata": {
        "id": "lciayTAP8VN9"
      }
    },
    {
      "cell_type": "code",
      "source": [
        "original_df.head()"
      ],
      "metadata": {
        "colab": {
          "base_uri": "https://localhost:8080/",
          "height": 386
        },
        "id": "RVhYjiAFyuz_",
        "outputId": "8dc1e77b-5c28-4d16-cbc9-38f5fad69494"
      },
      "execution_count": null,
      "outputs": [
        {
          "output_type": "execute_result",
          "data": {
            "text/plain": [
              "   ANNO_INF  COD_DANE_DEPARTAMENTO DEPARTAMENTO  COD_SECRETARIA SECRETARIA  \\\n",
              "0      2019                     15       BOYACÁ            3769     BOYACÁ   \n",
              "1      2019                     15       BOYACÁ            3769     BOYACÁ   \n",
              "2      2019                     15       BOYACÁ            3769     BOYACÁ   \n",
              "3      2019                     15       BOYACÁ            3769     BOYACÁ   \n",
              "4      2019                     15       BOYACÁ            3769     BOYACÁ   \n",
              "\n",
              "   COD_DANE_MUNICIPIO MUNICIPIO   CODIGO_DANE       NOMBRE_ESTABLECIMIENTO  \\\n",
              "0               15106   BRICEÑO  215106000171  I.E. TECNICA MANUEL BRICEÑO   \n",
              "1               15106   BRICEÑO  215106000049  I.E. TECNICA MANUEL BRICEÑO   \n",
              "2               15106   BRICEÑO  215106000073  I.E. TECNICA MANUEL BRICEÑO   \n",
              "3               15106   BRICEÑO  215106000103  I.E. TECNICA MANUEL BRICEÑO   \n",
              "4               15106   BRICEÑO  215106000111  I.E. TECNICA MANUEL BRICEÑO   \n",
              "\n",
              "   COD_SECTOR  ... COD_ESPECIALIDAD  ESPECIALIDAD EDAD  COD_GENERO     GENERO  \\\n",
              "0        1001  ...                0     No aplica    7           M  Masculino   \n",
              "1        1001  ...                0     No aplica    7           M  Masculino   \n",
              "2        1001  ...                0     No aplica    7           F   Femenino   \n",
              "3        1001  ...                0     No aplica    7           F   Femenino   \n",
              "4        1001  ...                0     No aplica    7           M  Masculino   \n",
              "\n",
              "   COD_GRUPO_ETNICO GRUPO_ETNICO  COD_SECTOR_CONPES SECTOR_CONPES  \\\n",
              "0                 0    No aplica                  1       OFICIAL   \n",
              "1                 0    No aplica                  1       OFICIAL   \n",
              "2                 0    No aplica                  1       OFICIAL   \n",
              "3                 0    No aplica                  1       OFICIAL   \n",
              "4                 0    No aplica                  1       OFICIAL   \n",
              "\n",
              "   TOTAL_MATRICULA  \n",
              "0                1  \n",
              "1                1  \n",
              "2                1  \n",
              "3                2  \n",
              "4                1  \n",
              "\n",
              "[5 rows x 35 columns]"
            ],
            "text/html": [
              "\n",
              "  <div id=\"df-37f1f3fd-349e-4702-b996-ef4c5373c6ef\">\n",
              "    <div class=\"colab-df-container\">\n",
              "      <div>\n",
              "<style scoped>\n",
              "    .dataframe tbody tr th:only-of-type {\n",
              "        vertical-align: middle;\n",
              "    }\n",
              "\n",
              "    .dataframe tbody tr th {\n",
              "        vertical-align: top;\n",
              "    }\n",
              "\n",
              "    .dataframe thead th {\n",
              "        text-align: right;\n",
              "    }\n",
              "</style>\n",
              "<table border=\"1\" class=\"dataframe\">\n",
              "  <thead>\n",
              "    <tr style=\"text-align: right;\">\n",
              "      <th></th>\n",
              "      <th>ANNO_INF</th>\n",
              "      <th>COD_DANE_DEPARTAMENTO</th>\n",
              "      <th>DEPARTAMENTO</th>\n",
              "      <th>COD_SECRETARIA</th>\n",
              "      <th>SECRETARIA</th>\n",
              "      <th>COD_DANE_MUNICIPIO</th>\n",
              "      <th>MUNICIPIO</th>\n",
              "      <th>CODIGO_DANE</th>\n",
              "      <th>NOMBRE_ESTABLECIMIENTO</th>\n",
              "      <th>COD_SECTOR</th>\n",
              "      <th>...</th>\n",
              "      <th>COD_ESPECIALIDAD</th>\n",
              "      <th>ESPECIALIDAD</th>\n",
              "      <th>EDAD</th>\n",
              "      <th>COD_GENERO</th>\n",
              "      <th>GENERO</th>\n",
              "      <th>COD_GRUPO_ETNICO</th>\n",
              "      <th>GRUPO_ETNICO</th>\n",
              "      <th>COD_SECTOR_CONPES</th>\n",
              "      <th>SECTOR_CONPES</th>\n",
              "      <th>TOTAL_MATRICULA</th>\n",
              "    </tr>\n",
              "  </thead>\n",
              "  <tbody>\n",
              "    <tr>\n",
              "      <th>0</th>\n",
              "      <td>2019</td>\n",
              "      <td>15</td>\n",
              "      <td>BOYACÁ</td>\n",
              "      <td>3769</td>\n",
              "      <td>BOYACÁ</td>\n",
              "      <td>15106</td>\n",
              "      <td>BRICEÑO</td>\n",
              "      <td>215106000171</td>\n",
              "      <td>I.E. TECNICA MANUEL BRICEÑO</td>\n",
              "      <td>1001</td>\n",
              "      <td>...</td>\n",
              "      <td>0</td>\n",
              "      <td>No aplica</td>\n",
              "      <td>7</td>\n",
              "      <td>M</td>\n",
              "      <td>Masculino</td>\n",
              "      <td>0</td>\n",
              "      <td>No aplica</td>\n",
              "      <td>1</td>\n",
              "      <td>OFICIAL</td>\n",
              "      <td>1</td>\n",
              "    </tr>\n",
              "    <tr>\n",
              "      <th>1</th>\n",
              "      <td>2019</td>\n",
              "      <td>15</td>\n",
              "      <td>BOYACÁ</td>\n",
              "      <td>3769</td>\n",
              "      <td>BOYACÁ</td>\n",
              "      <td>15106</td>\n",
              "      <td>BRICEÑO</td>\n",
              "      <td>215106000049</td>\n",
              "      <td>I.E. TECNICA MANUEL BRICEÑO</td>\n",
              "      <td>1001</td>\n",
              "      <td>...</td>\n",
              "      <td>0</td>\n",
              "      <td>No aplica</td>\n",
              "      <td>7</td>\n",
              "      <td>M</td>\n",
              "      <td>Masculino</td>\n",
              "      <td>0</td>\n",
              "      <td>No aplica</td>\n",
              "      <td>1</td>\n",
              "      <td>OFICIAL</td>\n",
              "      <td>1</td>\n",
              "    </tr>\n",
              "    <tr>\n",
              "      <th>2</th>\n",
              "      <td>2019</td>\n",
              "      <td>15</td>\n",
              "      <td>BOYACÁ</td>\n",
              "      <td>3769</td>\n",
              "      <td>BOYACÁ</td>\n",
              "      <td>15106</td>\n",
              "      <td>BRICEÑO</td>\n",
              "      <td>215106000073</td>\n",
              "      <td>I.E. TECNICA MANUEL BRICEÑO</td>\n",
              "      <td>1001</td>\n",
              "      <td>...</td>\n",
              "      <td>0</td>\n",
              "      <td>No aplica</td>\n",
              "      <td>7</td>\n",
              "      <td>F</td>\n",
              "      <td>Femenino</td>\n",
              "      <td>0</td>\n",
              "      <td>No aplica</td>\n",
              "      <td>1</td>\n",
              "      <td>OFICIAL</td>\n",
              "      <td>1</td>\n",
              "    </tr>\n",
              "    <tr>\n",
              "      <th>3</th>\n",
              "      <td>2019</td>\n",
              "      <td>15</td>\n",
              "      <td>BOYACÁ</td>\n",
              "      <td>3769</td>\n",
              "      <td>BOYACÁ</td>\n",
              "      <td>15106</td>\n",
              "      <td>BRICEÑO</td>\n",
              "      <td>215106000103</td>\n",
              "      <td>I.E. TECNICA MANUEL BRICEÑO</td>\n",
              "      <td>1001</td>\n",
              "      <td>...</td>\n",
              "      <td>0</td>\n",
              "      <td>No aplica</td>\n",
              "      <td>7</td>\n",
              "      <td>F</td>\n",
              "      <td>Femenino</td>\n",
              "      <td>0</td>\n",
              "      <td>No aplica</td>\n",
              "      <td>1</td>\n",
              "      <td>OFICIAL</td>\n",
              "      <td>2</td>\n",
              "    </tr>\n",
              "    <tr>\n",
              "      <th>4</th>\n",
              "      <td>2019</td>\n",
              "      <td>15</td>\n",
              "      <td>BOYACÁ</td>\n",
              "      <td>3769</td>\n",
              "      <td>BOYACÁ</td>\n",
              "      <td>15106</td>\n",
              "      <td>BRICEÑO</td>\n",
              "      <td>215106000111</td>\n",
              "      <td>I.E. TECNICA MANUEL BRICEÑO</td>\n",
              "      <td>1001</td>\n",
              "      <td>...</td>\n",
              "      <td>0</td>\n",
              "      <td>No aplica</td>\n",
              "      <td>7</td>\n",
              "      <td>M</td>\n",
              "      <td>Masculino</td>\n",
              "      <td>0</td>\n",
              "      <td>No aplica</td>\n",
              "      <td>1</td>\n",
              "      <td>OFICIAL</td>\n",
              "      <td>1</td>\n",
              "    </tr>\n",
              "  </tbody>\n",
              "</table>\n",
              "<p>5 rows × 35 columns</p>\n",
              "</div>\n",
              "      <button class=\"colab-df-convert\" onclick=\"convertToInteractive('df-37f1f3fd-349e-4702-b996-ef4c5373c6ef')\"\n",
              "              title=\"Convert this dataframe to an interactive table.\"\n",
              "              style=\"display:none;\">\n",
              "        \n",
              "  <svg xmlns=\"http://www.w3.org/2000/svg\" height=\"24px\"viewBox=\"0 0 24 24\"\n",
              "       width=\"24px\">\n",
              "    <path d=\"M0 0h24v24H0V0z\" fill=\"none\"/>\n",
              "    <path d=\"M18.56 5.44l.94 2.06.94-2.06 2.06-.94-2.06-.94-.94-2.06-.94 2.06-2.06.94zm-11 1L8.5 8.5l.94-2.06 2.06-.94-2.06-.94L8.5 2.5l-.94 2.06-2.06.94zm10 10l.94 2.06.94-2.06 2.06-.94-2.06-.94-.94-2.06-.94 2.06-2.06.94z\"/><path d=\"M17.41 7.96l-1.37-1.37c-.4-.4-.92-.59-1.43-.59-.52 0-1.04.2-1.43.59L10.3 9.45l-7.72 7.72c-.78.78-.78 2.05 0 2.83L4 21.41c.39.39.9.59 1.41.59.51 0 1.02-.2 1.41-.59l7.78-7.78 2.81-2.81c.8-.78.8-2.07 0-2.86zM5.41 20L4 18.59l7.72-7.72 1.47 1.35L5.41 20z\"/>\n",
              "  </svg>\n",
              "      </button>\n",
              "      \n",
              "  <style>\n",
              "    .colab-df-container {\n",
              "      display:flex;\n",
              "      flex-wrap:wrap;\n",
              "      gap: 12px;\n",
              "    }\n",
              "\n",
              "    .colab-df-convert {\n",
              "      background-color: #E8F0FE;\n",
              "      border: none;\n",
              "      border-radius: 50%;\n",
              "      cursor: pointer;\n",
              "      display: none;\n",
              "      fill: #1967D2;\n",
              "      height: 32px;\n",
              "      padding: 0 0 0 0;\n",
              "      width: 32px;\n",
              "    }\n",
              "\n",
              "    .colab-df-convert:hover {\n",
              "      background-color: #E2EBFA;\n",
              "      box-shadow: 0px 1px 2px rgba(60, 64, 67, 0.3), 0px 1px 3px 1px rgba(60, 64, 67, 0.15);\n",
              "      fill: #174EA6;\n",
              "    }\n",
              "\n",
              "    [theme=dark] .colab-df-convert {\n",
              "      background-color: #3B4455;\n",
              "      fill: #D2E3FC;\n",
              "    }\n",
              "\n",
              "    [theme=dark] .colab-df-convert:hover {\n",
              "      background-color: #434B5C;\n",
              "      box-shadow: 0px 1px 3px 1px rgba(0, 0, 0, 0.15);\n",
              "      filter: drop-shadow(0px 1px 2px rgba(0, 0, 0, 0.3));\n",
              "      fill: #FFFFFF;\n",
              "    }\n",
              "  </style>\n",
              "\n",
              "      <script>\n",
              "        const buttonEl =\n",
              "          document.querySelector('#df-37f1f3fd-349e-4702-b996-ef4c5373c6ef button.colab-df-convert');\n",
              "        buttonEl.style.display =\n",
              "          google.colab.kernel.accessAllowed ? 'block' : 'none';\n",
              "\n",
              "        async function convertToInteractive(key) {\n",
              "          const element = document.querySelector('#df-37f1f3fd-349e-4702-b996-ef4c5373c6ef');\n",
              "          const dataTable =\n",
              "            await google.colab.kernel.invokeFunction('convertToInteractive',\n",
              "                                                     [key], {});\n",
              "          if (!dataTable) return;\n",
              "\n",
              "          const docLinkHtml = 'Like what you see? Visit the ' +\n",
              "            '<a target=\"_blank\" href=https://colab.research.google.com/notebooks/data_table.ipynb>data table notebook</a>'\n",
              "            + ' to learn more about interactive tables.';\n",
              "          element.innerHTML = '';\n",
              "          dataTable['output_type'] = 'display_data';\n",
              "          await google.colab.output.renderOutput(dataTable, element);\n",
              "          const docLink = document.createElement('div');\n",
              "          docLink.innerHTML = docLinkHtml;\n",
              "          element.appendChild(docLink);\n",
              "        }\n",
              "      </script>\n",
              "    </div>\n",
              "  </div>\n",
              "  "
            ]
          },
          "metadata": {},
          "execution_count": 47
        }
      ]
    },
    {
      "cell_type": "markdown",
      "source": [
        "Con la siguiente funcion original_df.info() nos sirve para realiza un resumen de nuestros datos, el cual nos ayudará para la resolución de tareas que vamos haciendo."
      ],
      "metadata": {
        "id": "ezAk4OBi8mNb"
      }
    },
    {
      "cell_type": "code",
      "source": [
        "original_df.info()"
      ],
      "metadata": {
        "colab": {
          "base_uri": "https://localhost:8080/"
        },
        "id": "bIT6yV_SKIVW",
        "outputId": "711d89a1-e9ec-4d86-9600-0f784f81d919"
      },
      "execution_count": null,
      "outputs": [
        {
          "output_type": "stream",
          "name": "stdout",
          "text": [
            "<class 'pandas.core.frame.DataFrame'>\n",
            "RangeIndex: 675 entries, 0 to 674\n",
            "Data columns (total 35 columns):\n",
            " #   Column                  Non-Null Count  Dtype \n",
            "---  ------                  --------------  ----- \n",
            " 0   ANNO_INF                675 non-null    int64 \n",
            " 1   COD_DANE_DEPARTAMENTO   675 non-null    int64 \n",
            " 2   DEPARTAMENTO            675 non-null    object\n",
            " 3   COD_SECRETARIA          675 non-null    int64 \n",
            " 4   SECRETARIA              675 non-null    object\n",
            " 5   COD_DANE_MUNICIPIO      675 non-null    int64 \n",
            " 6   MUNICIPIO               675 non-null    object\n",
            " 7   CODIGO_DANE             675 non-null    int64 \n",
            " 8   NOMBRE_ESTABLECIMIENTO  675 non-null    object\n",
            " 9   COD_SECTOR              675 non-null    int64 \n",
            " 10  SECTOR                  675 non-null    object\n",
            " 11  COD_CALENDARIO          675 non-null    int64 \n",
            " 12  CALENDARIO              675 non-null    object\n",
            " 13  CODIGO_DANE_SEDE        675 non-null    int64 \n",
            " 14  NOMBRE_SEDE             675 non-null    object\n",
            " 15  COD_ZONA                675 non-null    int64 \n",
            " 16  ZONA                    675 non-null    object\n",
            " 17  COD_TIPO_JORNADA        675 non-null    int64 \n",
            " 18  TIPO_JORNADA            675 non-null    object\n",
            " 19  CODIGO_GRADO            675 non-null    int64 \n",
            " 20  GRADO                   675 non-null    object\n",
            " 21  COD_METODOLOGIA         675 non-null    int64 \n",
            " 22  METODOLOGIA             675 non-null    object\n",
            " 23  COD_CARACTER            675 non-null    int64 \n",
            " 24  CARACTER                675 non-null    object\n",
            " 25  COD_ESPECIALIDAD        675 non-null    int64 \n",
            " 26  ESPECIALIDAD            675 non-null    object\n",
            " 27  EDAD                    675 non-null    int64 \n",
            " 28  COD_GENERO              675 non-null    object\n",
            " 29  GENERO                  675 non-null    object\n",
            " 30  COD_GRUPO_ETNICO        675 non-null    int64 \n",
            " 31  GRUPO_ETNICO            674 non-null    object\n",
            " 32  COD_SECTOR_CONPES       675 non-null    int64 \n",
            " 33  SECTOR_CONPES           675 non-null    object\n",
            " 34  TOTAL_MATRICULA         675 non-null    int64 \n",
            "dtypes: int64(18), object(17)\n",
            "memory usage: 184.7+ KB\n"
          ]
        }
      ]
    },
    {
      "cell_type": "markdown",
      "source": [
        "**MOSTRAR COLUMNAS**\n",
        "\n",
        "Con el metodo loc [ ] puedo mostrar cualquier columna de nuestro dataframe. En este caso seleccionamos tres columnas."
      ],
      "metadata": {
        "id": "X_kDGtRA9Yo6"
      }
    },
    {
      "cell_type": "code",
      "source": [
        "original_df.loc[:, ['ANNO_INF', 'EDAD', 'CODIGO_GRADO']]"
      ],
      "metadata": {
        "colab": {
          "base_uri": "https://localhost:8080/",
          "height": 424
        },
        "id": "NtNI6H01Ey_R",
        "outputId": "24c043c9-702a-40e0-aff9-4b46ca608f19"
      },
      "execution_count": null,
      "outputs": [
        {
          "output_type": "execute_result",
          "data": {
            "text/plain": [
              "     ANNO_INF  EDAD  CODIGO_GRADO\n",
              "0        2019     7             2\n",
              "1        2019     7             2\n",
              "2        2019     7             2\n",
              "3        2019     7             2\n",
              "4        2019     7             2\n",
              "..        ...   ...           ...\n",
              "670      2021    17            10\n",
              "671      2021    16            10\n",
              "672      2021    16            10\n",
              "673      2021    15            10\n",
              "674      2021    15            10\n",
              "\n",
              "[675 rows x 3 columns]"
            ],
            "text/html": [
              "\n",
              "  <div id=\"df-9d1ec918-b13b-4096-bdf3-22dbb7354088\">\n",
              "    <div class=\"colab-df-container\">\n",
              "      <div>\n",
              "<style scoped>\n",
              "    .dataframe tbody tr th:only-of-type {\n",
              "        vertical-align: middle;\n",
              "    }\n",
              "\n",
              "    .dataframe tbody tr th {\n",
              "        vertical-align: top;\n",
              "    }\n",
              "\n",
              "    .dataframe thead th {\n",
              "        text-align: right;\n",
              "    }\n",
              "</style>\n",
              "<table border=\"1\" class=\"dataframe\">\n",
              "  <thead>\n",
              "    <tr style=\"text-align: right;\">\n",
              "      <th></th>\n",
              "      <th>ANNO_INF</th>\n",
              "      <th>EDAD</th>\n",
              "      <th>CODIGO_GRADO</th>\n",
              "    </tr>\n",
              "  </thead>\n",
              "  <tbody>\n",
              "    <tr>\n",
              "      <th>0</th>\n",
              "      <td>2019</td>\n",
              "      <td>7</td>\n",
              "      <td>2</td>\n",
              "    </tr>\n",
              "    <tr>\n",
              "      <th>1</th>\n",
              "      <td>2019</td>\n",
              "      <td>7</td>\n",
              "      <td>2</td>\n",
              "    </tr>\n",
              "    <tr>\n",
              "      <th>2</th>\n",
              "      <td>2019</td>\n",
              "      <td>7</td>\n",
              "      <td>2</td>\n",
              "    </tr>\n",
              "    <tr>\n",
              "      <th>3</th>\n",
              "      <td>2019</td>\n",
              "      <td>7</td>\n",
              "      <td>2</td>\n",
              "    </tr>\n",
              "    <tr>\n",
              "      <th>4</th>\n",
              "      <td>2019</td>\n",
              "      <td>7</td>\n",
              "      <td>2</td>\n",
              "    </tr>\n",
              "    <tr>\n",
              "      <th>...</th>\n",
              "      <td>...</td>\n",
              "      <td>...</td>\n",
              "      <td>...</td>\n",
              "    </tr>\n",
              "    <tr>\n",
              "      <th>670</th>\n",
              "      <td>2021</td>\n",
              "      <td>17</td>\n",
              "      <td>10</td>\n",
              "    </tr>\n",
              "    <tr>\n",
              "      <th>671</th>\n",
              "      <td>2021</td>\n",
              "      <td>16</td>\n",
              "      <td>10</td>\n",
              "    </tr>\n",
              "    <tr>\n",
              "      <th>672</th>\n",
              "      <td>2021</td>\n",
              "      <td>16</td>\n",
              "      <td>10</td>\n",
              "    </tr>\n",
              "    <tr>\n",
              "      <th>673</th>\n",
              "      <td>2021</td>\n",
              "      <td>15</td>\n",
              "      <td>10</td>\n",
              "    </tr>\n",
              "    <tr>\n",
              "      <th>674</th>\n",
              "      <td>2021</td>\n",
              "      <td>15</td>\n",
              "      <td>10</td>\n",
              "    </tr>\n",
              "  </tbody>\n",
              "</table>\n",
              "<p>675 rows × 3 columns</p>\n",
              "</div>\n",
              "      <button class=\"colab-df-convert\" onclick=\"convertToInteractive('df-9d1ec918-b13b-4096-bdf3-22dbb7354088')\"\n",
              "              title=\"Convert this dataframe to an interactive table.\"\n",
              "              style=\"display:none;\">\n",
              "        \n",
              "  <svg xmlns=\"http://www.w3.org/2000/svg\" height=\"24px\"viewBox=\"0 0 24 24\"\n",
              "       width=\"24px\">\n",
              "    <path d=\"M0 0h24v24H0V0z\" fill=\"none\"/>\n",
              "    <path d=\"M18.56 5.44l.94 2.06.94-2.06 2.06-.94-2.06-.94-.94-2.06-.94 2.06-2.06.94zm-11 1L8.5 8.5l.94-2.06 2.06-.94-2.06-.94L8.5 2.5l-.94 2.06-2.06.94zm10 10l.94 2.06.94-2.06 2.06-.94-2.06-.94-.94-2.06-.94 2.06-2.06.94z\"/><path d=\"M17.41 7.96l-1.37-1.37c-.4-.4-.92-.59-1.43-.59-.52 0-1.04.2-1.43.59L10.3 9.45l-7.72 7.72c-.78.78-.78 2.05 0 2.83L4 21.41c.39.39.9.59 1.41.59.51 0 1.02-.2 1.41-.59l7.78-7.78 2.81-2.81c.8-.78.8-2.07 0-2.86zM5.41 20L4 18.59l7.72-7.72 1.47 1.35L5.41 20z\"/>\n",
              "  </svg>\n",
              "      </button>\n",
              "      \n",
              "  <style>\n",
              "    .colab-df-container {\n",
              "      display:flex;\n",
              "      flex-wrap:wrap;\n",
              "      gap: 12px;\n",
              "    }\n",
              "\n",
              "    .colab-df-convert {\n",
              "      background-color: #E8F0FE;\n",
              "      border: none;\n",
              "      border-radius: 50%;\n",
              "      cursor: pointer;\n",
              "      display: none;\n",
              "      fill: #1967D2;\n",
              "      height: 32px;\n",
              "      padding: 0 0 0 0;\n",
              "      width: 32px;\n",
              "    }\n",
              "\n",
              "    .colab-df-convert:hover {\n",
              "      background-color: #E2EBFA;\n",
              "      box-shadow: 0px 1px 2px rgba(60, 64, 67, 0.3), 0px 1px 3px 1px rgba(60, 64, 67, 0.15);\n",
              "      fill: #174EA6;\n",
              "    }\n",
              "\n",
              "    [theme=dark] .colab-df-convert {\n",
              "      background-color: #3B4455;\n",
              "      fill: #D2E3FC;\n",
              "    }\n",
              "\n",
              "    [theme=dark] .colab-df-convert:hover {\n",
              "      background-color: #434B5C;\n",
              "      box-shadow: 0px 1px 3px 1px rgba(0, 0, 0, 0.15);\n",
              "      filter: drop-shadow(0px 1px 2px rgba(0, 0, 0, 0.3));\n",
              "      fill: #FFFFFF;\n",
              "    }\n",
              "  </style>\n",
              "\n",
              "      <script>\n",
              "        const buttonEl =\n",
              "          document.querySelector('#df-9d1ec918-b13b-4096-bdf3-22dbb7354088 button.colab-df-convert');\n",
              "        buttonEl.style.display =\n",
              "          google.colab.kernel.accessAllowed ? 'block' : 'none';\n",
              "\n",
              "        async function convertToInteractive(key) {\n",
              "          const element = document.querySelector('#df-9d1ec918-b13b-4096-bdf3-22dbb7354088');\n",
              "          const dataTable =\n",
              "            await google.colab.kernel.invokeFunction('convertToInteractive',\n",
              "                                                     [key], {});\n",
              "          if (!dataTable) return;\n",
              "\n",
              "          const docLinkHtml = 'Like what you see? Visit the ' +\n",
              "            '<a target=\"_blank\" href=https://colab.research.google.com/notebooks/data_table.ipynb>data table notebook</a>'\n",
              "            + ' to learn more about interactive tables.';\n",
              "          element.innerHTML = '';\n",
              "          dataTable['output_type'] = 'display_data';\n",
              "          await google.colab.output.renderOutput(dataTable, element);\n",
              "          const docLink = document.createElement('div');\n",
              "          docLink.innerHTML = docLinkHtml;\n",
              "          element.appendChild(docLink);\n",
              "        }\n",
              "      </script>\n",
              "    </div>\n",
              "  </div>\n",
              "  "
            ]
          },
          "metadata": {},
          "execution_count": 49
        }
      ]
    },
    {
      "cell_type": "markdown",
      "source": [
        "**MOSTRAR FILAS**\n",
        "\n",
        "Con la función \"iloc\" podemos mostrar las filas e incluso seleccionar las filas que quieras mostrar.\n",
        "En este caso seleccionamos la fila 10 al 20."
      ],
      "metadata": {
        "id": "LLjZs-f49Iyp"
      }
    },
    {
      "cell_type": "code",
      "source": [
        "original_df.iloc[9:21]"
      ],
      "metadata": {
        "colab": {
          "base_uri": "https://localhost:8080/",
          "height": 727
        },
        "id": "sn31j3vJF0k-",
        "outputId": "0c4852b8-01cd-4b6f-843c-20ef2711412d"
      },
      "execution_count": null,
      "outputs": [
        {
          "output_type": "execute_result",
          "data": {
            "text/plain": [
              "    ANNO_INF  COD_DANE_DEPARTAMENTO DEPARTAMENTO  COD_SECRETARIA SECRETARIA  \\\n",
              "9       2019                     15       BOYACÁ            3769     BOYACÁ   \n",
              "10      2019                     15       BOYACÁ            3769     BOYACÁ   \n",
              "11      2019                     15       BOYACÁ            3769     BOYACÁ   \n",
              "12      2019                     15       BOYACÁ            3769     BOYACÁ   \n",
              "13      2019                     15       BOYACÁ            3769     BOYACÁ   \n",
              "14      2019                     15       BOYACÁ            3769     BOYACÁ   \n",
              "15      2019                     15       BOYACÁ            3769     BOYACÁ   \n",
              "16      2019                     15       BOYACÁ            3769     BOYACÁ   \n",
              "17      2019                     15       BOYACÁ            3769     BOYACÁ   \n",
              "18      2019                     15       BOYACÁ            3769     BOYACÁ   \n",
              "19      2019                     15       BOYACÁ            3769     BOYACÁ   \n",
              "20      2019                     15       BOYACÁ            3769     BOYACÁ   \n",
              "\n",
              "    COD_DANE_MUNICIPIO MUNICIPIO   CODIGO_DANE       NOMBRE_ESTABLECIMIENTO  \\\n",
              "9                15106   BRICEÑO  215106000154  I.E. TECNICA MANUEL BRICEÑO   \n",
              "10               15106   BRICEÑO  215106000162  I.E. TECNICA MANUEL BRICEÑO   \n",
              "11               15106   BRICEÑO  315106000124  I.E. TECNICA MANUEL BRICEÑO   \n",
              "12               15106   BRICEÑO  315106000124  I.E. TECNICA MANUEL BRICEÑO   \n",
              "13               15106   BRICEÑO  315106000124  I.E. TECNICA MANUEL BRICEÑO   \n",
              "14               15106   BRICEÑO  315106000124  I.E. TECNICA MANUEL BRICEÑO   \n",
              "15               15106   BRICEÑO  315106000124  I.E. TECNICA MANUEL BRICEÑO   \n",
              "16               15106   BRICEÑO  315106000124  I.E. TECNICA MANUEL BRICEÑO   \n",
              "17               15106   BRICEÑO  315106000124  I.E. TECNICA MANUEL BRICEÑO   \n",
              "18               15106   BRICEÑO  315106000124  I.E. TECNICA MANUEL BRICEÑO   \n",
              "19               15106   BRICEÑO  315106000124  I.E. TECNICA MANUEL BRICEÑO   \n",
              "20               15106   BRICEÑO  115106000010  I.E. TECNICA MANUEL BRICEÑO   \n",
              "\n",
              "    COD_SECTOR  ... COD_ESPECIALIDAD  ESPECIALIDAD EDAD  COD_GENERO  \\\n",
              "9         1001  ...                0     No aplica    7           M   \n",
              "10        1001  ...                0     No aplica    7           F   \n",
              "11        1001  ...               10  Agropecuario   13           F   \n",
              "12        1001  ...               10  Agropecuario   14           F   \n",
              "13        1001  ...               10  Agropecuario   14           M   \n",
              "14        1001  ...               10  Agropecuario   15           F   \n",
              "15        1001  ...               10  Agropecuario   15           M   \n",
              "16        1001  ...               10  Agropecuario   16           F   \n",
              "17        1001  ...               10  Agropecuario   16           M   \n",
              "18        1001  ...               10  Agropecuario   17           M   \n",
              "19        1001  ...               10  Agropecuario   19           M   \n",
              "20        1001  ...                0     No aplica    7           F   \n",
              "\n",
              "       GENERO  COD_GRUPO_ETNICO GRUPO_ETNICO  COD_SECTOR_CONPES SECTOR_CONPES  \\\n",
              "9   Masculino                 0    No aplica                  1       OFICIAL   \n",
              "10   Femenino                 0    No aplica                  1       OFICIAL   \n",
              "11   Femenino                 0    No aplica                  1       OFICIAL   \n",
              "12   Femenino                 0    No aplica                  1       OFICIAL   \n",
              "13  Masculino                 0    No aplica                  1       OFICIAL   \n",
              "14   Femenino                 0    No aplica                  1       OFICIAL   \n",
              "15  Masculino                 0    No aplica                  1       OFICIAL   \n",
              "16   Femenino                 0    No aplica                  1       OFICIAL   \n",
              "17  Masculino                 0    No aplica                  1       OFICIAL   \n",
              "18  Masculino                 0    No aplica                  1       OFICIAL   \n",
              "19  Masculino                 0    No aplica                  1       OFICIAL   \n",
              "20   Femenino                 0    No aplica                  1       OFICIAL   \n",
              "\n",
              "    TOTAL_MATRICULA  \n",
              "9                 2  \n",
              "10                3  \n",
              "11                1  \n",
              "12                1  \n",
              "13                1  \n",
              "14                5  \n",
              "15                8  \n",
              "16                4  \n",
              "17                5  \n",
              "18                2  \n",
              "19                1  \n",
              "20                1  \n",
              "\n",
              "[12 rows x 35 columns]"
            ],
            "text/html": [
              "\n",
              "  <div id=\"df-d5cd40d4-9e69-47e0-9632-eb120f88b43d\">\n",
              "    <div class=\"colab-df-container\">\n",
              "      <div>\n",
              "<style scoped>\n",
              "    .dataframe tbody tr th:only-of-type {\n",
              "        vertical-align: middle;\n",
              "    }\n",
              "\n",
              "    .dataframe tbody tr th {\n",
              "        vertical-align: top;\n",
              "    }\n",
              "\n",
              "    .dataframe thead th {\n",
              "        text-align: right;\n",
              "    }\n",
              "</style>\n",
              "<table border=\"1\" class=\"dataframe\">\n",
              "  <thead>\n",
              "    <tr style=\"text-align: right;\">\n",
              "      <th></th>\n",
              "      <th>ANNO_INF</th>\n",
              "      <th>COD_DANE_DEPARTAMENTO</th>\n",
              "      <th>DEPARTAMENTO</th>\n",
              "      <th>COD_SECRETARIA</th>\n",
              "      <th>SECRETARIA</th>\n",
              "      <th>COD_DANE_MUNICIPIO</th>\n",
              "      <th>MUNICIPIO</th>\n",
              "      <th>CODIGO_DANE</th>\n",
              "      <th>NOMBRE_ESTABLECIMIENTO</th>\n",
              "      <th>COD_SECTOR</th>\n",
              "      <th>...</th>\n",
              "      <th>COD_ESPECIALIDAD</th>\n",
              "      <th>ESPECIALIDAD</th>\n",
              "      <th>EDAD</th>\n",
              "      <th>COD_GENERO</th>\n",
              "      <th>GENERO</th>\n",
              "      <th>COD_GRUPO_ETNICO</th>\n",
              "      <th>GRUPO_ETNICO</th>\n",
              "      <th>COD_SECTOR_CONPES</th>\n",
              "      <th>SECTOR_CONPES</th>\n",
              "      <th>TOTAL_MATRICULA</th>\n",
              "    </tr>\n",
              "  </thead>\n",
              "  <tbody>\n",
              "    <tr>\n",
              "      <th>9</th>\n",
              "      <td>2019</td>\n",
              "      <td>15</td>\n",
              "      <td>BOYACÁ</td>\n",
              "      <td>3769</td>\n",
              "      <td>BOYACÁ</td>\n",
              "      <td>15106</td>\n",
              "      <td>BRICEÑO</td>\n",
              "      <td>215106000154</td>\n",
              "      <td>I.E. TECNICA MANUEL BRICEÑO</td>\n",
              "      <td>1001</td>\n",
              "      <td>...</td>\n",
              "      <td>0</td>\n",
              "      <td>No aplica</td>\n",
              "      <td>7</td>\n",
              "      <td>M</td>\n",
              "      <td>Masculino</td>\n",
              "      <td>0</td>\n",
              "      <td>No aplica</td>\n",
              "      <td>1</td>\n",
              "      <td>OFICIAL</td>\n",
              "      <td>2</td>\n",
              "    </tr>\n",
              "    <tr>\n",
              "      <th>10</th>\n",
              "      <td>2019</td>\n",
              "      <td>15</td>\n",
              "      <td>BOYACÁ</td>\n",
              "      <td>3769</td>\n",
              "      <td>BOYACÁ</td>\n",
              "      <td>15106</td>\n",
              "      <td>BRICEÑO</td>\n",
              "      <td>215106000162</td>\n",
              "      <td>I.E. TECNICA MANUEL BRICEÑO</td>\n",
              "      <td>1001</td>\n",
              "      <td>...</td>\n",
              "      <td>0</td>\n",
              "      <td>No aplica</td>\n",
              "      <td>7</td>\n",
              "      <td>F</td>\n",
              "      <td>Femenino</td>\n",
              "      <td>0</td>\n",
              "      <td>No aplica</td>\n",
              "      <td>1</td>\n",
              "      <td>OFICIAL</td>\n",
              "      <td>3</td>\n",
              "    </tr>\n",
              "    <tr>\n",
              "      <th>11</th>\n",
              "      <td>2019</td>\n",
              "      <td>15</td>\n",
              "      <td>BOYACÁ</td>\n",
              "      <td>3769</td>\n",
              "      <td>BOYACÁ</td>\n",
              "      <td>15106</td>\n",
              "      <td>BRICEÑO</td>\n",
              "      <td>315106000124</td>\n",
              "      <td>I.E. TECNICA MANUEL BRICEÑO</td>\n",
              "      <td>1001</td>\n",
              "      <td>...</td>\n",
              "      <td>10</td>\n",
              "      <td>Agropecuario</td>\n",
              "      <td>13</td>\n",
              "      <td>F</td>\n",
              "      <td>Femenino</td>\n",
              "      <td>0</td>\n",
              "      <td>No aplica</td>\n",
              "      <td>1</td>\n",
              "      <td>OFICIAL</td>\n",
              "      <td>1</td>\n",
              "    </tr>\n",
              "    <tr>\n",
              "      <th>12</th>\n",
              "      <td>2019</td>\n",
              "      <td>15</td>\n",
              "      <td>BOYACÁ</td>\n",
              "      <td>3769</td>\n",
              "      <td>BOYACÁ</td>\n",
              "      <td>15106</td>\n",
              "      <td>BRICEÑO</td>\n",
              "      <td>315106000124</td>\n",
              "      <td>I.E. TECNICA MANUEL BRICEÑO</td>\n",
              "      <td>1001</td>\n",
              "      <td>...</td>\n",
              "      <td>10</td>\n",
              "      <td>Agropecuario</td>\n",
              "      <td>14</td>\n",
              "      <td>F</td>\n",
              "      <td>Femenino</td>\n",
              "      <td>0</td>\n",
              "      <td>No aplica</td>\n",
              "      <td>1</td>\n",
              "      <td>OFICIAL</td>\n",
              "      <td>1</td>\n",
              "    </tr>\n",
              "    <tr>\n",
              "      <th>13</th>\n",
              "      <td>2019</td>\n",
              "      <td>15</td>\n",
              "      <td>BOYACÁ</td>\n",
              "      <td>3769</td>\n",
              "      <td>BOYACÁ</td>\n",
              "      <td>15106</td>\n",
              "      <td>BRICEÑO</td>\n",
              "      <td>315106000124</td>\n",
              "      <td>I.E. TECNICA MANUEL BRICEÑO</td>\n",
              "      <td>1001</td>\n",
              "      <td>...</td>\n",
              "      <td>10</td>\n",
              "      <td>Agropecuario</td>\n",
              "      <td>14</td>\n",
              "      <td>M</td>\n",
              "      <td>Masculino</td>\n",
              "      <td>0</td>\n",
              "      <td>No aplica</td>\n",
              "      <td>1</td>\n",
              "      <td>OFICIAL</td>\n",
              "      <td>1</td>\n",
              "    </tr>\n",
              "    <tr>\n",
              "      <th>14</th>\n",
              "      <td>2019</td>\n",
              "      <td>15</td>\n",
              "      <td>BOYACÁ</td>\n",
              "      <td>3769</td>\n",
              "      <td>BOYACÁ</td>\n",
              "      <td>15106</td>\n",
              "      <td>BRICEÑO</td>\n",
              "      <td>315106000124</td>\n",
              "      <td>I.E. TECNICA MANUEL BRICEÑO</td>\n",
              "      <td>1001</td>\n",
              "      <td>...</td>\n",
              "      <td>10</td>\n",
              "      <td>Agropecuario</td>\n",
              "      <td>15</td>\n",
              "      <td>F</td>\n",
              "      <td>Femenino</td>\n",
              "      <td>0</td>\n",
              "      <td>No aplica</td>\n",
              "      <td>1</td>\n",
              "      <td>OFICIAL</td>\n",
              "      <td>5</td>\n",
              "    </tr>\n",
              "    <tr>\n",
              "      <th>15</th>\n",
              "      <td>2019</td>\n",
              "      <td>15</td>\n",
              "      <td>BOYACÁ</td>\n",
              "      <td>3769</td>\n",
              "      <td>BOYACÁ</td>\n",
              "      <td>15106</td>\n",
              "      <td>BRICEÑO</td>\n",
              "      <td>315106000124</td>\n",
              "      <td>I.E. TECNICA MANUEL BRICEÑO</td>\n",
              "      <td>1001</td>\n",
              "      <td>...</td>\n",
              "      <td>10</td>\n",
              "      <td>Agropecuario</td>\n",
              "      <td>15</td>\n",
              "      <td>M</td>\n",
              "      <td>Masculino</td>\n",
              "      <td>0</td>\n",
              "      <td>No aplica</td>\n",
              "      <td>1</td>\n",
              "      <td>OFICIAL</td>\n",
              "      <td>8</td>\n",
              "    </tr>\n",
              "    <tr>\n",
              "      <th>16</th>\n",
              "      <td>2019</td>\n",
              "      <td>15</td>\n",
              "      <td>BOYACÁ</td>\n",
              "      <td>3769</td>\n",
              "      <td>BOYACÁ</td>\n",
              "      <td>15106</td>\n",
              "      <td>BRICEÑO</td>\n",
              "      <td>315106000124</td>\n",
              "      <td>I.E. TECNICA MANUEL BRICEÑO</td>\n",
              "      <td>1001</td>\n",
              "      <td>...</td>\n",
              "      <td>10</td>\n",
              "      <td>Agropecuario</td>\n",
              "      <td>16</td>\n",
              "      <td>F</td>\n",
              "      <td>Femenino</td>\n",
              "      <td>0</td>\n",
              "      <td>No aplica</td>\n",
              "      <td>1</td>\n",
              "      <td>OFICIAL</td>\n",
              "      <td>4</td>\n",
              "    </tr>\n",
              "    <tr>\n",
              "      <th>17</th>\n",
              "      <td>2019</td>\n",
              "      <td>15</td>\n",
              "      <td>BOYACÁ</td>\n",
              "      <td>3769</td>\n",
              "      <td>BOYACÁ</td>\n",
              "      <td>15106</td>\n",
              "      <td>BRICEÑO</td>\n",
              "      <td>315106000124</td>\n",
              "      <td>I.E. TECNICA MANUEL BRICEÑO</td>\n",
              "      <td>1001</td>\n",
              "      <td>...</td>\n",
              "      <td>10</td>\n",
              "      <td>Agropecuario</td>\n",
              "      <td>16</td>\n",
              "      <td>M</td>\n",
              "      <td>Masculino</td>\n",
              "      <td>0</td>\n",
              "      <td>No aplica</td>\n",
              "      <td>1</td>\n",
              "      <td>OFICIAL</td>\n",
              "      <td>5</td>\n",
              "    </tr>\n",
              "    <tr>\n",
              "      <th>18</th>\n",
              "      <td>2019</td>\n",
              "      <td>15</td>\n",
              "      <td>BOYACÁ</td>\n",
              "      <td>3769</td>\n",
              "      <td>BOYACÁ</td>\n",
              "      <td>15106</td>\n",
              "      <td>BRICEÑO</td>\n",
              "      <td>315106000124</td>\n",
              "      <td>I.E. TECNICA MANUEL BRICEÑO</td>\n",
              "      <td>1001</td>\n",
              "      <td>...</td>\n",
              "      <td>10</td>\n",
              "      <td>Agropecuario</td>\n",
              "      <td>17</td>\n",
              "      <td>M</td>\n",
              "      <td>Masculino</td>\n",
              "      <td>0</td>\n",
              "      <td>No aplica</td>\n",
              "      <td>1</td>\n",
              "      <td>OFICIAL</td>\n",
              "      <td>2</td>\n",
              "    </tr>\n",
              "    <tr>\n",
              "      <th>19</th>\n",
              "      <td>2019</td>\n",
              "      <td>15</td>\n",
              "      <td>BOYACÁ</td>\n",
              "      <td>3769</td>\n",
              "      <td>BOYACÁ</td>\n",
              "      <td>15106</td>\n",
              "      <td>BRICEÑO</td>\n",
              "      <td>315106000124</td>\n",
              "      <td>I.E. TECNICA MANUEL BRICEÑO</td>\n",
              "      <td>1001</td>\n",
              "      <td>...</td>\n",
              "      <td>10</td>\n",
              "      <td>Agropecuario</td>\n",
              "      <td>19</td>\n",
              "      <td>M</td>\n",
              "      <td>Masculino</td>\n",
              "      <td>0</td>\n",
              "      <td>No aplica</td>\n",
              "      <td>1</td>\n",
              "      <td>OFICIAL</td>\n",
              "      <td>1</td>\n",
              "    </tr>\n",
              "    <tr>\n",
              "      <th>20</th>\n",
              "      <td>2019</td>\n",
              "      <td>15</td>\n",
              "      <td>BOYACÁ</td>\n",
              "      <td>3769</td>\n",
              "      <td>BOYACÁ</td>\n",
              "      <td>15106</td>\n",
              "      <td>BRICEÑO</td>\n",
              "      <td>115106000010</td>\n",
              "      <td>I.E. TECNICA MANUEL BRICEÑO</td>\n",
              "      <td>1001</td>\n",
              "      <td>...</td>\n",
              "      <td>0</td>\n",
              "      <td>No aplica</td>\n",
              "      <td>7</td>\n",
              "      <td>F</td>\n",
              "      <td>Femenino</td>\n",
              "      <td>0</td>\n",
              "      <td>No aplica</td>\n",
              "      <td>1</td>\n",
              "      <td>OFICIAL</td>\n",
              "      <td>1</td>\n",
              "    </tr>\n",
              "  </tbody>\n",
              "</table>\n",
              "<p>12 rows × 35 columns</p>\n",
              "</div>\n",
              "      <button class=\"colab-df-convert\" onclick=\"convertToInteractive('df-d5cd40d4-9e69-47e0-9632-eb120f88b43d')\"\n",
              "              title=\"Convert this dataframe to an interactive table.\"\n",
              "              style=\"display:none;\">\n",
              "        \n",
              "  <svg xmlns=\"http://www.w3.org/2000/svg\" height=\"24px\"viewBox=\"0 0 24 24\"\n",
              "       width=\"24px\">\n",
              "    <path d=\"M0 0h24v24H0V0z\" fill=\"none\"/>\n",
              "    <path d=\"M18.56 5.44l.94 2.06.94-2.06 2.06-.94-2.06-.94-.94-2.06-.94 2.06-2.06.94zm-11 1L8.5 8.5l.94-2.06 2.06-.94-2.06-.94L8.5 2.5l-.94 2.06-2.06.94zm10 10l.94 2.06.94-2.06 2.06-.94-2.06-.94-.94-2.06-.94 2.06-2.06.94z\"/><path d=\"M17.41 7.96l-1.37-1.37c-.4-.4-.92-.59-1.43-.59-.52 0-1.04.2-1.43.59L10.3 9.45l-7.72 7.72c-.78.78-.78 2.05 0 2.83L4 21.41c.39.39.9.59 1.41.59.51 0 1.02-.2 1.41-.59l7.78-7.78 2.81-2.81c.8-.78.8-2.07 0-2.86zM5.41 20L4 18.59l7.72-7.72 1.47 1.35L5.41 20z\"/>\n",
              "  </svg>\n",
              "      </button>\n",
              "      \n",
              "  <style>\n",
              "    .colab-df-container {\n",
              "      display:flex;\n",
              "      flex-wrap:wrap;\n",
              "      gap: 12px;\n",
              "    }\n",
              "\n",
              "    .colab-df-convert {\n",
              "      background-color: #E8F0FE;\n",
              "      border: none;\n",
              "      border-radius: 50%;\n",
              "      cursor: pointer;\n",
              "      display: none;\n",
              "      fill: #1967D2;\n",
              "      height: 32px;\n",
              "      padding: 0 0 0 0;\n",
              "      width: 32px;\n",
              "    }\n",
              "\n",
              "    .colab-df-convert:hover {\n",
              "      background-color: #E2EBFA;\n",
              "      box-shadow: 0px 1px 2px rgba(60, 64, 67, 0.3), 0px 1px 3px 1px rgba(60, 64, 67, 0.15);\n",
              "      fill: #174EA6;\n",
              "    }\n",
              "\n",
              "    [theme=dark] .colab-df-convert {\n",
              "      background-color: #3B4455;\n",
              "      fill: #D2E3FC;\n",
              "    }\n",
              "\n",
              "    [theme=dark] .colab-df-convert:hover {\n",
              "      background-color: #434B5C;\n",
              "      box-shadow: 0px 1px 3px 1px rgba(0, 0, 0, 0.15);\n",
              "      filter: drop-shadow(0px 1px 2px rgba(0, 0, 0, 0.3));\n",
              "      fill: #FFFFFF;\n",
              "    }\n",
              "  </style>\n",
              "\n",
              "      <script>\n",
              "        const buttonEl =\n",
              "          document.querySelector('#df-d5cd40d4-9e69-47e0-9632-eb120f88b43d button.colab-df-convert');\n",
              "        buttonEl.style.display =\n",
              "          google.colab.kernel.accessAllowed ? 'block' : 'none';\n",
              "\n",
              "        async function convertToInteractive(key) {\n",
              "          const element = document.querySelector('#df-d5cd40d4-9e69-47e0-9632-eb120f88b43d');\n",
              "          const dataTable =\n",
              "            await google.colab.kernel.invokeFunction('convertToInteractive',\n",
              "                                                     [key], {});\n",
              "          if (!dataTable) return;\n",
              "\n",
              "          const docLinkHtml = 'Like what you see? Visit the ' +\n",
              "            '<a target=\"_blank\" href=https://colab.research.google.com/notebooks/data_table.ipynb>data table notebook</a>'\n",
              "            + ' to learn more about interactive tables.';\n",
              "          element.innerHTML = '';\n",
              "          dataTable['output_type'] = 'display_data';\n",
              "          await google.colab.output.renderOutput(dataTable, element);\n",
              "          const docLink = document.createElement('div');\n",
              "          docLink.innerHTML = docLinkHtml;\n",
              "          element.appendChild(docLink);\n",
              "        }\n",
              "      </script>\n",
              "    </div>\n",
              "  </div>\n",
              "  "
            ]
          },
          "metadata": {},
          "execution_count": 50
        }
      ]
    },
    {
      "cell_type": "markdown",
      "source": [
        "**CONSULTA TRES VALORES CUANTITATIVOS**\n",
        "\n",
        "Para el siguiente paso utilizaremos las siguientes varible: ANNO_INF, CODIGO_GRADO y EDAD."
      ],
      "metadata": {
        "id": "yHzfTAIN-QYp"
      }
    },
    {
      "cell_type": "markdown",
      "source": [
        "**MODA**\n",
        "\n",
        "La moda es el valor que aparace con mayor frecuencia en una columna de nuestro dataframe y para calcular este valor usamos la función 'mode()'."
      ],
      "metadata": {
        "id": "obin26eiOy0X"
      }
    },
    {
      "cell_type": "code",
      "source": [
        "original_df['ANNO_INF'].mode()"
      ],
      "metadata": {
        "colab": {
          "base_uri": "https://localhost:8080/"
        },
        "id": "WOf9RrMsO4G7",
        "outputId": "15651843-4c8d-4192-e750-0da712cf62c7"
      },
      "execution_count": null,
      "outputs": [
        {
          "output_type": "execute_result",
          "data": {
            "text/plain": [
              "0    2021\n",
              "dtype: int64"
            ]
          },
          "metadata": {},
          "execution_count": 51
        }
      ]
    },
    {
      "cell_type": "code",
      "source": [
        "original_df['CODIGO_GRADO'].mode()"
      ],
      "metadata": {
        "colab": {
          "base_uri": "https://localhost:8080/"
        },
        "id": "zSaBHy1dPDwL",
        "outputId": "40ac4404-0e00-4588-96fe-8bba8d0b646f"
      },
      "execution_count": null,
      "outputs": [
        {
          "output_type": "execute_result",
          "data": {
            "text/plain": [
              "0    5\n",
              "dtype: int64"
            ]
          },
          "metadata": {},
          "execution_count": 52
        }
      ]
    },
    {
      "cell_type": "code",
      "source": [
        "original_df['EDAD'].mode()"
      ],
      "metadata": {
        "colab": {
          "base_uri": "https://localhost:8080/"
        },
        "id": "hov_9W67PKq6",
        "outputId": "82e1dd92-9794-4f04-ffd4-99acbecfb36a"
      },
      "execution_count": null,
      "outputs": [
        {
          "output_type": "execute_result",
          "data": {
            "text/plain": [
              "0    10\n",
              "dtype: int64"
            ]
          },
          "metadata": {},
          "execution_count": 53
        }
      ]
    },
    {
      "cell_type": "markdown",
      "source": [
        "**MEDIA**\n",
        "\n",
        "Para calcular la media utilizamos la función \"mean()\" la cual muestra el valor medio de un grupo de datos.\n"
      ],
      "metadata": {
        "id": "xhEFBpwpNl5O"
      }
    },
    {
      "cell_type": "code",
      "source": [
        "original_df['ANNO_INF'].mean()"
      ],
      "metadata": {
        "colab": {
          "base_uri": "https://localhost:8080/"
        },
        "id": "Plzq-2TMNlWJ",
        "outputId": "b459ee73-0134-4007-f42d-fc6c8c3e60c8"
      },
      "execution_count": null,
      "outputs": [
        {
          "output_type": "execute_result",
          "data": {
            "text/plain": [
              "2019.5540740740742"
            ]
          },
          "metadata": {},
          "execution_count": 54
        }
      ]
    },
    {
      "cell_type": "code",
      "source": [
        "original_df['CODIGO_GRADO'].mean()"
      ],
      "metadata": {
        "colab": {
          "base_uri": "https://localhost:8080/"
        },
        "id": "ZJxCAuUnN43F",
        "outputId": "46f5dfeb-ce6f-4ead-8b34-372a66a63d48"
      },
      "execution_count": null,
      "outputs": [
        {
          "output_type": "execute_result",
          "data": {
            "text/plain": [
              "4.373333333333333"
            ]
          },
          "metadata": {},
          "execution_count": 55
        }
      ]
    },
    {
      "cell_type": "code",
      "source": [
        "original_df['EDAD'].mean()"
      ],
      "metadata": {
        "colab": {
          "base_uri": "https://localhost:8080/"
        },
        "id": "Jb3E73JKOjac",
        "outputId": "f91d5e50-b040-4253-be1c-d8c047fdb766"
      },
      "execution_count": null,
      "outputs": [
        {
          "output_type": "execute_result",
          "data": {
            "text/plain": [
              "9.977777777777778"
            ]
          },
          "metadata": {},
          "execution_count": 56
        }
      ]
    },
    {
      "cell_type": "markdown",
      "source": [
        "**MEDIANA**\n",
        "\n",
        "Para hallar la mediana utilizaremos la función median que nos permite calcular la mediana de nuestro dataframe teniendo en cuenta que selecciona solo los valores numericos, es decir las columnas tipo float, entero, etc."
      ],
      "metadata": {
        "id": "obpdqq1FPxEx"
      }
    },
    {
      "cell_type": "code",
      "source": [
        "original_df['ANNO_INF'].median()"
      ],
      "metadata": {
        "colab": {
          "base_uri": "https://localhost:8080/"
        },
        "id": "PJUAxAq1P9gq",
        "outputId": "16257eff-4840-4cdf-e647-c3ca729a9212"
      },
      "execution_count": null,
      "outputs": [
        {
          "output_type": "execute_result",
          "data": {
            "text/plain": [
              "2020.0"
            ]
          },
          "metadata": {},
          "execution_count": 57
        }
      ]
    },
    {
      "cell_type": "code",
      "source": [
        "original_df['EDAD'].median()"
      ],
      "metadata": {
        "colab": {
          "base_uri": "https://localhost:8080/"
        },
        "id": "bUDG2wGtP4a5",
        "outputId": "c316c44c-dd47-4c31-c402-a0f82123fdcb"
      },
      "execution_count": null,
      "outputs": [
        {
          "output_type": "execute_result",
          "data": {
            "text/plain": [
              "9.0"
            ]
          },
          "metadata": {},
          "execution_count": 58
        }
      ]
    },
    {
      "cell_type": "code",
      "source": [
        "original_df['CODIGO_GRADO'].median()"
      ],
      "metadata": {
        "colab": {
          "base_uri": "https://localhost:8080/"
        },
        "id": "RJjnJNJKQFIo",
        "outputId": "da08a448-cc3f-4054-8670-899b71e9f446"
      },
      "execution_count": null,
      "outputs": [
        {
          "output_type": "execute_result",
          "data": {
            "text/plain": [
              "4.0"
            ]
          },
          "metadata": {},
          "execution_count": 59
        }
      ]
    },
    {
      "cell_type": "markdown",
      "source": [
        "**MINIMO**\n",
        "El minimo por el contrario muestra el valor minimo dentro de nuestro conjunto de datos. Con la función 'min()' nos muestra este valor."
      ],
      "metadata": {
        "id": "jju2D_8yQMOQ"
      }
    },
    {
      "cell_type": "code",
      "source": [
        "original_df['EDAD'].min()"
      ],
      "metadata": {
        "colab": {
          "base_uri": "https://localhost:8080/"
        },
        "id": "bZuq31CVQKkA",
        "outputId": "a8d94b94-9b8c-4c35-9b38-093afbc37a3a"
      },
      "execution_count": null,
      "outputs": [
        {
          "output_type": "execute_result",
          "data": {
            "text/plain": [
              "4"
            ]
          },
          "metadata": {},
          "execution_count": 60
        }
      ]
    },
    {
      "cell_type": "code",
      "source": [
        "original_df['ANNO_INF'].min()"
      ],
      "metadata": {
        "colab": {
          "base_uri": "https://localhost:8080/"
        },
        "id": "9WCzkdo8QbVz",
        "outputId": "1358cebb-41f7-4e5f-e98f-e68fed1af761"
      },
      "execution_count": null,
      "outputs": [
        {
          "output_type": "execute_result",
          "data": {
            "text/plain": [
              "2018"
            ]
          },
          "metadata": {},
          "execution_count": 61
        }
      ]
    },
    {
      "cell_type": "code",
      "source": [
        "original_df['CODIGO_GRADO'].min()"
      ],
      "metadata": {
        "colab": {
          "base_uri": "https://localhost:8080/"
        },
        "id": "GSx7cGzdQi5Z",
        "outputId": "c787e82c-67b5-401e-bb5d-60158a84200d"
      },
      "execution_count": null,
      "outputs": [
        {
          "output_type": "execute_result",
          "data": {
            "text/plain": [
              "0"
            ]
          },
          "metadata": {},
          "execution_count": 62
        }
      ]
    },
    {
      "cell_type": "markdown",
      "source": [
        "**MAXIMO**\n",
        "\n",
        "El maximo como su nombre lo indica es el valor maximo dentro de nuestro conjunto de datosa. Utilizado la funcion 'max()' obtendremos ese valor."
      ],
      "metadata": {
        "id": "0Q0eVev3Q_DQ"
      }
    },
    {
      "cell_type": "code",
      "source": [
        "original_df['EDAD'].max()"
      ],
      "metadata": {
        "colab": {
          "base_uri": "https://localhost:8080/"
        },
        "id": "CemyP2cuQ-Wv",
        "outputId": "c66d9823-2402-42be-f15d-da5381c5773d"
      },
      "execution_count": null,
      "outputs": [
        {
          "output_type": "execute_result",
          "data": {
            "text/plain": [
              "20"
            ]
          },
          "metadata": {},
          "execution_count": 63
        }
      ]
    },
    {
      "cell_type": "code",
      "source": [
        "original_df['ANNO_INF'].max()"
      ],
      "metadata": {
        "colab": {
          "base_uri": "https://localhost:8080/"
        },
        "id": "h1zIhxByRJ8A",
        "outputId": "1ca635db-554e-4dd6-b1c9-187643ba3924"
      },
      "execution_count": null,
      "outputs": [
        {
          "output_type": "execute_result",
          "data": {
            "text/plain": [
              "2021"
            ]
          },
          "metadata": {},
          "execution_count": 64
        }
      ]
    },
    {
      "cell_type": "code",
      "source": [
        "original_df['CODIGO_GRADO'].max()"
      ],
      "metadata": {
        "colab": {
          "base_uri": "https://localhost:8080/"
        },
        "id": "DMV8QCY0RKy-",
        "outputId": "02bf5c74-8018-4cfb-a73c-7a0b7a03a299"
      },
      "execution_count": null,
      "outputs": [
        {
          "output_type": "execute_result",
          "data": {
            "text/plain": [
              "11"
            ]
          },
          "metadata": {},
          "execution_count": 65
        }
      ]
    },
    {
      "cell_type": "markdown",
      "source": [
        "**VISUALIZACION DE LOS DATOS**\n",
        "\n",
        "A través de esta hacemos que los datos mostrados sea mas visibles y de esta forma el usuario tenga una mejor comprensión y analisis de los mismos."
      ],
      "metadata": {
        "id": "Zl9KlaU-_Xqu"
      }
    },
    {
      "cell_type": "markdown",
      "source": [
        "***Histogramas***\n",
        "\n",
        "Para la realización del histograma utilizamos 'plotly' una librería que permite generar graficos interactivos. El histograma sirve para entender mejor la distribución de datos y para identificar caracteriticas importantes.\n",
        "\n",
        "Para los siguientes histogramas seguimos trabajando con las columnas de tipo cuantitativo con las que trabajamos la media, mediana, moda, minimo y maximo.\n"
      ],
      "metadata": {
        "id": "54r_71TPnvmw"
      }
    },
    {
      "cell_type": "code",
      "source": [
        "# Seleccionamos la columna \"valores\"\n",
        "valores = original_df['EDAD']\n",
        "\n",
        "# Creamos un histograma con 20 bins\n",
        "fig = px.histogram(valores, nbins=25, title= 'HISTOGRAMA DE LA COLUMNA \"EDAD\"')\n",
        "\n",
        "# Mostramos el histograma\n",
        "fig.show()"
      ],
      "metadata": {
        "colab": {
          "base_uri": "https://localhost:8080/",
          "height": 542
        },
        "id": "euZH2HDqnzts",
        "outputId": "4d76a48b-29e5-4fd7-b29b-de6fceb9707a"
      },
      "execution_count": null,
      "outputs": [
        {
          "output_type": "display_data",
          "data": {
            "text/html": [
              "<html>\n",
              "<head><meta charset=\"utf-8\" /></head>\n",
              "<body>\n",
              "    <div>            <script src=\"https://cdnjs.cloudflare.com/ajax/libs/mathjax/2.7.5/MathJax.js?config=TeX-AMS-MML_SVG\"></script><script type=\"text/javascript\">if (window.MathJax) {MathJax.Hub.Config({SVG: {font: \"STIX-Web\"}});}</script>                <script type=\"text/javascript\">window.PlotlyConfig = {MathJaxConfig: 'local'};</script>\n",
              "        <script src=\"https://cdn.plot.ly/plotly-2.8.3.min.js\"></script>                <div id=\"89ee437b-5327-4076-aa34-72d5430d79c1\" class=\"plotly-graph-div\" style=\"height:525px; width:100%;\"></div>            <script type=\"text/javascript\">                                    window.PLOTLYENV=window.PLOTLYENV || {};                                    if (document.getElementById(\"89ee437b-5327-4076-aa34-72d5430d79c1\")) {                    Plotly.newPlot(                        \"89ee437b-5327-4076-aa34-72d5430d79c1\",                        [{\"alignmentgroup\":\"True\",\"bingroup\":\"x\",\"hovertemplate\":\"variable=EDAD<br>value=%{x}<br>count=%{y}<extra></extra>\",\"legendgroup\":\"EDAD\",\"marker\":{\"color\":\"#636efa\",\"pattern\":{\"shape\":\"\"}},\"name\":\"EDAD\",\"nbinsx\":25,\"offsetgroup\":\"EDAD\",\"orientation\":\"v\",\"showlegend\":true,\"x\":[7,7,7,7,7,7,7,7,7,7,7,13,14,14,15,15,16,16,17,19,7,8,8,9,6,7,6,6,6,6,6,6,6,6,6,6,8,8,8,13,14,7,6,7,5,5,15,14,15,14,13,12,13,12,6,6,10,11,11,10,11,10,11,10,11,10,10,10,10,10,10,6,6,9,12,11,9,10,9,9,9,9,9,9,9,9,9,9,7,7,7,7,7,7,8,8,9,8,8,8,10,8,10,8,7,8,8,7,7,8,8,5,5,5,5,5,5,5,5,5,5,15,14,13,15,16,17,18,18,16,12,14,15,16,13,15,14,13,18,16,17,16,15,14,15,17,7,7,7,6,6,6,5,6,6,6,6,6,6,5,6,15,16,15,20,16,17,18,17,18,8,7,9,8,11,15,12,11,10,16,14,13,12,13,8,9,10,9,8,8,9,10,10,13,10,10,9,11,5,6,10,9,8,8,8,11,8,7,7,8,8,9,9,12,14,15,15,16,16,17,17,18,15,16,16,17,17,18,8,8,5,5,12,11,10,10,9,6,5,5,4,11,14,13,13,12,17,12,15,15,14,9,10,10,6,6,7,17,16,16,15,14,14,13,13,16,14,13,12,12,11,11,10,9,14,11,14,10,7,5,4,5,5,5,5,4,5,5,5,19,9,9,10,9,10,9,8,9,9,9,8,10,9,11,9,9,10,9,10,10,10,11,10,10,11,12,10,10,10,10,13,12,10,10,8,9,9,10,11,13,4,5,4,5,4,6,5,5,5,5,5,5,5,5,5,7,6,6,7,6,6,6,6,6,6,5,6,6,6,8,8,8,8,8,8,8,8,8,14,14,15,16,17,19,15,18,15,15,16,18,17,17,16,9,11,9,9,10,9,9,10,14,9,10,12,13,13,14,14,15,15,16,18,10,9,9,19,17,17,16,16,15,14,20,9,8,8,12,10,9,10,9,10,10,11,10,12,10,10,11,10,10,10,5,4,12,10,10,11,11,12,13,13,14,15,16,11,12,12,13,13,14,14,15,16,17,9,8,7,7,12,7,10,10,11,11,11,6,6,7,7,7,7,7,8,6,8,7,8,8,7,7,7,9,10,11,12,10,10,12,11,10,10,11,15,11,6,5,5,4,7,6,6,5,5,4,10,18,17,17,16,16,19,4,6,5,5,4,5,4,5,5,4,4,5,4,6,5,5,5,6,5,4,6,5,6,11,7,7,8,8,8,10,13,7,7,8,6,6,7,5,6,6,5,5,6,5,6,7,8,6,6,6,6,6,6,8,9,9,9,8,8,8,8,8,8,8,9,8,9,10,7,8,8,8,9,5,5,5,15,14,14,13,13,12,12,11,11,10,10,9,9,10,11,9,10,10,11,9,9,9,9,9,9,9,10,9,9,11,9,10,7,7,7,7,7,7,8,7,7,8,9,7,6,16,5,6,6,7,11,11,12,12,13,13,14,14,15,15,16,16,15,15,14,14,13,13,12,18,18,17,16,16,15,15,14,14,13,17,20,17,16,16,15,15],\"xaxis\":\"x\",\"yaxis\":\"y\",\"type\":\"histogram\"}],                        {\"template\":{\"data\":{\"bar\":[{\"error_x\":{\"color\":\"#2a3f5f\"},\"error_y\":{\"color\":\"#2a3f5f\"},\"marker\":{\"line\":{\"color\":\"#E5ECF6\",\"width\":0.5},\"pattern\":{\"fillmode\":\"overlay\",\"size\":10,\"solidity\":0.2}},\"type\":\"bar\"}],\"barpolar\":[{\"marker\":{\"line\":{\"color\":\"#E5ECF6\",\"width\":0.5},\"pattern\":{\"fillmode\":\"overlay\",\"size\":10,\"solidity\":0.2}},\"type\":\"barpolar\"}],\"carpet\":[{\"aaxis\":{\"endlinecolor\":\"#2a3f5f\",\"gridcolor\":\"white\",\"linecolor\":\"white\",\"minorgridcolor\":\"white\",\"startlinecolor\":\"#2a3f5f\"},\"baxis\":{\"endlinecolor\":\"#2a3f5f\",\"gridcolor\":\"white\",\"linecolor\":\"white\",\"minorgridcolor\":\"white\",\"startlinecolor\":\"#2a3f5f\"},\"type\":\"carpet\"}],\"choropleth\":[{\"colorbar\":{\"outlinewidth\":0,\"ticks\":\"\"},\"type\":\"choropleth\"}],\"contour\":[{\"colorbar\":{\"outlinewidth\":0,\"ticks\":\"\"},\"colorscale\":[[0.0,\"#0d0887\"],[0.1111111111111111,\"#46039f\"],[0.2222222222222222,\"#7201a8\"],[0.3333333333333333,\"#9c179e\"],[0.4444444444444444,\"#bd3786\"],[0.5555555555555556,\"#d8576b\"],[0.6666666666666666,\"#ed7953\"],[0.7777777777777778,\"#fb9f3a\"],[0.8888888888888888,\"#fdca26\"],[1.0,\"#f0f921\"]],\"type\":\"contour\"}],\"contourcarpet\":[{\"colorbar\":{\"outlinewidth\":0,\"ticks\":\"\"},\"type\":\"contourcarpet\"}],\"heatmap\":[{\"colorbar\":{\"outlinewidth\":0,\"ticks\":\"\"},\"colorscale\":[[0.0,\"#0d0887\"],[0.1111111111111111,\"#46039f\"],[0.2222222222222222,\"#7201a8\"],[0.3333333333333333,\"#9c179e\"],[0.4444444444444444,\"#bd3786\"],[0.5555555555555556,\"#d8576b\"],[0.6666666666666666,\"#ed7953\"],[0.7777777777777778,\"#fb9f3a\"],[0.8888888888888888,\"#fdca26\"],[1.0,\"#f0f921\"]],\"type\":\"heatmap\"}],\"heatmapgl\":[{\"colorbar\":{\"outlinewidth\":0,\"ticks\":\"\"},\"colorscale\":[[0.0,\"#0d0887\"],[0.1111111111111111,\"#46039f\"],[0.2222222222222222,\"#7201a8\"],[0.3333333333333333,\"#9c179e\"],[0.4444444444444444,\"#bd3786\"],[0.5555555555555556,\"#d8576b\"],[0.6666666666666666,\"#ed7953\"],[0.7777777777777778,\"#fb9f3a\"],[0.8888888888888888,\"#fdca26\"],[1.0,\"#f0f921\"]],\"type\":\"heatmapgl\"}],\"histogram\":[{\"marker\":{\"pattern\":{\"fillmode\":\"overlay\",\"size\":10,\"solidity\":0.2}},\"type\":\"histogram\"}],\"histogram2d\":[{\"colorbar\":{\"outlinewidth\":0,\"ticks\":\"\"},\"colorscale\":[[0.0,\"#0d0887\"],[0.1111111111111111,\"#46039f\"],[0.2222222222222222,\"#7201a8\"],[0.3333333333333333,\"#9c179e\"],[0.4444444444444444,\"#bd3786\"],[0.5555555555555556,\"#d8576b\"],[0.6666666666666666,\"#ed7953\"],[0.7777777777777778,\"#fb9f3a\"],[0.8888888888888888,\"#fdca26\"],[1.0,\"#f0f921\"]],\"type\":\"histogram2d\"}],\"histogram2dcontour\":[{\"colorbar\":{\"outlinewidth\":0,\"ticks\":\"\"},\"colorscale\":[[0.0,\"#0d0887\"],[0.1111111111111111,\"#46039f\"],[0.2222222222222222,\"#7201a8\"],[0.3333333333333333,\"#9c179e\"],[0.4444444444444444,\"#bd3786\"],[0.5555555555555556,\"#d8576b\"],[0.6666666666666666,\"#ed7953\"],[0.7777777777777778,\"#fb9f3a\"],[0.8888888888888888,\"#fdca26\"],[1.0,\"#f0f921\"]],\"type\":\"histogram2dcontour\"}],\"mesh3d\":[{\"colorbar\":{\"outlinewidth\":0,\"ticks\":\"\"},\"type\":\"mesh3d\"}],\"parcoords\":[{\"line\":{\"colorbar\":{\"outlinewidth\":0,\"ticks\":\"\"}},\"type\":\"parcoords\"}],\"pie\":[{\"automargin\":true,\"type\":\"pie\"}],\"scatter\":[{\"marker\":{\"colorbar\":{\"outlinewidth\":0,\"ticks\":\"\"}},\"type\":\"scatter\"}],\"scatter3d\":[{\"line\":{\"colorbar\":{\"outlinewidth\":0,\"ticks\":\"\"}},\"marker\":{\"colorbar\":{\"outlinewidth\":0,\"ticks\":\"\"}},\"type\":\"scatter3d\"}],\"scattercarpet\":[{\"marker\":{\"colorbar\":{\"outlinewidth\":0,\"ticks\":\"\"}},\"type\":\"scattercarpet\"}],\"scattergeo\":[{\"marker\":{\"colorbar\":{\"outlinewidth\":0,\"ticks\":\"\"}},\"type\":\"scattergeo\"}],\"scattergl\":[{\"marker\":{\"colorbar\":{\"outlinewidth\":0,\"ticks\":\"\"}},\"type\":\"scattergl\"}],\"scattermapbox\":[{\"marker\":{\"colorbar\":{\"outlinewidth\":0,\"ticks\":\"\"}},\"type\":\"scattermapbox\"}],\"scatterpolar\":[{\"marker\":{\"colorbar\":{\"outlinewidth\":0,\"ticks\":\"\"}},\"type\":\"scatterpolar\"}],\"scatterpolargl\":[{\"marker\":{\"colorbar\":{\"outlinewidth\":0,\"ticks\":\"\"}},\"type\":\"scatterpolargl\"}],\"scatterternary\":[{\"marker\":{\"colorbar\":{\"outlinewidth\":0,\"ticks\":\"\"}},\"type\":\"scatterternary\"}],\"surface\":[{\"colorbar\":{\"outlinewidth\":0,\"ticks\":\"\"},\"colorscale\":[[0.0,\"#0d0887\"],[0.1111111111111111,\"#46039f\"],[0.2222222222222222,\"#7201a8\"],[0.3333333333333333,\"#9c179e\"],[0.4444444444444444,\"#bd3786\"],[0.5555555555555556,\"#d8576b\"],[0.6666666666666666,\"#ed7953\"],[0.7777777777777778,\"#fb9f3a\"],[0.8888888888888888,\"#fdca26\"],[1.0,\"#f0f921\"]],\"type\":\"surface\"}],\"table\":[{\"cells\":{\"fill\":{\"color\":\"#EBF0F8\"},\"line\":{\"color\":\"white\"}},\"header\":{\"fill\":{\"color\":\"#C8D4E3\"},\"line\":{\"color\":\"white\"}},\"type\":\"table\"}]},\"layout\":{\"annotationdefaults\":{\"arrowcolor\":\"#2a3f5f\",\"arrowhead\":0,\"arrowwidth\":1},\"autotypenumbers\":\"strict\",\"coloraxis\":{\"colorbar\":{\"outlinewidth\":0,\"ticks\":\"\"}},\"colorscale\":{\"diverging\":[[0,\"#8e0152\"],[0.1,\"#c51b7d\"],[0.2,\"#de77ae\"],[0.3,\"#f1b6da\"],[0.4,\"#fde0ef\"],[0.5,\"#f7f7f7\"],[0.6,\"#e6f5d0\"],[0.7,\"#b8e186\"],[0.8,\"#7fbc41\"],[0.9,\"#4d9221\"],[1,\"#276419\"]],\"sequential\":[[0.0,\"#0d0887\"],[0.1111111111111111,\"#46039f\"],[0.2222222222222222,\"#7201a8\"],[0.3333333333333333,\"#9c179e\"],[0.4444444444444444,\"#bd3786\"],[0.5555555555555556,\"#d8576b\"],[0.6666666666666666,\"#ed7953\"],[0.7777777777777778,\"#fb9f3a\"],[0.8888888888888888,\"#fdca26\"],[1.0,\"#f0f921\"]],\"sequentialminus\":[[0.0,\"#0d0887\"],[0.1111111111111111,\"#46039f\"],[0.2222222222222222,\"#7201a8\"],[0.3333333333333333,\"#9c179e\"],[0.4444444444444444,\"#bd3786\"],[0.5555555555555556,\"#d8576b\"],[0.6666666666666666,\"#ed7953\"],[0.7777777777777778,\"#fb9f3a\"],[0.8888888888888888,\"#fdca26\"],[1.0,\"#f0f921\"]]},\"colorway\":[\"#636efa\",\"#EF553B\",\"#00cc96\",\"#ab63fa\",\"#FFA15A\",\"#19d3f3\",\"#FF6692\",\"#B6E880\",\"#FF97FF\",\"#FECB52\"],\"font\":{\"color\":\"#2a3f5f\"},\"geo\":{\"bgcolor\":\"white\",\"lakecolor\":\"white\",\"landcolor\":\"#E5ECF6\",\"showlakes\":true,\"showland\":true,\"subunitcolor\":\"white\"},\"hoverlabel\":{\"align\":\"left\"},\"hovermode\":\"closest\",\"mapbox\":{\"style\":\"light\"},\"paper_bgcolor\":\"white\",\"plot_bgcolor\":\"#E5ECF6\",\"polar\":{\"angularaxis\":{\"gridcolor\":\"white\",\"linecolor\":\"white\",\"ticks\":\"\"},\"bgcolor\":\"#E5ECF6\",\"radialaxis\":{\"gridcolor\":\"white\",\"linecolor\":\"white\",\"ticks\":\"\"}},\"scene\":{\"xaxis\":{\"backgroundcolor\":\"#E5ECF6\",\"gridcolor\":\"white\",\"gridwidth\":2,\"linecolor\":\"white\",\"showbackground\":true,\"ticks\":\"\",\"zerolinecolor\":\"white\"},\"yaxis\":{\"backgroundcolor\":\"#E5ECF6\",\"gridcolor\":\"white\",\"gridwidth\":2,\"linecolor\":\"white\",\"showbackground\":true,\"ticks\":\"\",\"zerolinecolor\":\"white\"},\"zaxis\":{\"backgroundcolor\":\"#E5ECF6\",\"gridcolor\":\"white\",\"gridwidth\":2,\"linecolor\":\"white\",\"showbackground\":true,\"ticks\":\"\",\"zerolinecolor\":\"white\"}},\"shapedefaults\":{\"line\":{\"color\":\"#2a3f5f\"}},\"ternary\":{\"aaxis\":{\"gridcolor\":\"white\",\"linecolor\":\"white\",\"ticks\":\"\"},\"baxis\":{\"gridcolor\":\"white\",\"linecolor\":\"white\",\"ticks\":\"\"},\"bgcolor\":\"#E5ECF6\",\"caxis\":{\"gridcolor\":\"white\",\"linecolor\":\"white\",\"ticks\":\"\"}},\"title\":{\"x\":0.05},\"xaxis\":{\"automargin\":true,\"gridcolor\":\"white\",\"linecolor\":\"white\",\"ticks\":\"\",\"title\":{\"standoff\":15},\"zerolinecolor\":\"white\",\"zerolinewidth\":2},\"yaxis\":{\"automargin\":true,\"gridcolor\":\"white\",\"linecolor\":\"white\",\"ticks\":\"\",\"title\":{\"standoff\":15},\"zerolinecolor\":\"white\",\"zerolinewidth\":2}}},\"xaxis\":{\"anchor\":\"y\",\"domain\":[0.0,1.0],\"title\":{\"text\":\"value\"}},\"yaxis\":{\"anchor\":\"x\",\"domain\":[0.0,1.0],\"title\":{\"text\":\"count\"}},\"legend\":{\"title\":{\"text\":\"variable\"},\"tracegroupgap\":0},\"title\":{\"text\":\"HISTOGRAMA DE LA COLUMNA \\\"EDAD\\\"\"},\"barmode\":\"relative\"},                        {\"responsive\": true}                    ).then(function(){\n",
              "                            \n",
              "var gd = document.getElementById('89ee437b-5327-4076-aa34-72d5430d79c1');\n",
              "var x = new MutationObserver(function (mutations, observer) {{\n",
              "        var display = window.getComputedStyle(gd).display;\n",
              "        if (!display || display === 'none') {{\n",
              "            console.log([gd, 'removed!']);\n",
              "            Plotly.purge(gd);\n",
              "            observer.disconnect();\n",
              "        }}\n",
              "}});\n",
              "\n",
              "// Listen for the removal of the full notebook cells\n",
              "var notebookContainer = gd.closest('#notebook-container');\n",
              "if (notebookContainer) {{\n",
              "    x.observe(notebookContainer, {childList: true});\n",
              "}}\n",
              "\n",
              "// Listen for the clearing of the current output cell\n",
              "var outputEl = gd.closest('.output');\n",
              "if (outputEl) {{\n",
              "    x.observe(outputEl, {childList: true});\n",
              "}}\n",
              "\n",
              "                        })                };                            </script>        </div>\n",
              "</body>\n",
              "</html>"
            ]
          },
          "metadata": {}
        }
      ]
    },
    {
      "cell_type": "code",
      "source": [
        "# Seleccionamos la columna \"valores\"\n",
        "valores = original_df['CODIGO_GRADO']\n",
        "\n",
        "# Creamos un histograma con 20 bins\n",
        "fig = px.histogram(valores, nbins=20, title= 'HISTOGRAMA DE LA COLUMNA \"CODIGO_GRADO\"')\n",
        "\n",
        "# Mostramos el histograma\n",
        "fig.show()"
      ],
      "metadata": {
        "colab": {
          "base_uri": "https://localhost:8080/",
          "height": 542
        },
        "id": "7drEEUrqoard",
        "outputId": "597abec7-056b-4f64-c050-7fa774dff81d"
      },
      "execution_count": null,
      "outputs": [
        {
          "output_type": "display_data",
          "data": {
            "text/html": [
              "<html>\n",
              "<head><meta charset=\"utf-8\" /></head>\n",
              "<body>\n",
              "    <div>            <script src=\"https://cdnjs.cloudflare.com/ajax/libs/mathjax/2.7.5/MathJax.js?config=TeX-AMS-MML_SVG\"></script><script type=\"text/javascript\">if (window.MathJax) {MathJax.Hub.Config({SVG: {font: \"STIX-Web\"}});}</script>                <script type=\"text/javascript\">window.PlotlyConfig = {MathJaxConfig: 'local'};</script>\n",
              "        <script src=\"https://cdn.plot.ly/plotly-2.8.3.min.js\"></script>                <div id=\"dc0ac6c6-2d0e-43cb-91d8-a35c422d1a0a\" class=\"plotly-graph-div\" style=\"height:525px; width:100%;\"></div>            <script type=\"text/javascript\">                                    window.PLOTLYENV=window.PLOTLYENV || {};                                    if (document.getElementById(\"dc0ac6c6-2d0e-43cb-91d8-a35c422d1a0a\")) {                    Plotly.newPlot(                        \"dc0ac6c6-2d0e-43cb-91d8-a35c422d1a0a\",                        [{\"alignmentgroup\":\"True\",\"bingroup\":\"x\",\"hovertemplate\":\"variable=CODIGO_GRADO<br>value=%{x}<br>count=%{y}<extra></extra>\",\"legendgroup\":\"CODIGO_GRADO\",\"marker\":{\"color\":\"#636efa\",\"pattern\":{\"shape\":\"\"}},\"name\":\"CODIGO_GRADO\",\"nbinsx\":20,\"offsetgroup\":\"CODIGO_GRADO\",\"orientation\":\"v\",\"showlegend\":true,\"x\":[2,2,2,2,2,2,2,2,2,2,2,10,10,10,10,10,10,10,10,10,3,3,3,3,1,1,1,1,1,1,1,1,1,1,1,1,3,3,3,9,9,2,2,2,0,0,7,7,7,7,7,7,7,7,1,1,4,5,5,5,5,5,5,5,5,5,5,5,5,5,5,1,1,4,4,4,4,4,4,4,4,4,4,4,4,4,4,4,2,2,2,2,2,2,3,3,3,3,3,3,3,3,3,3,3,3,3,3,3,3,3,0,0,0,0,0,0,0,0,0,0,9,9,9,9,9,9,9,9,9,9,8,8,8,8,8,8,8,8,10,10,10,10,10,10,10,2,2,2,1,1,1,1,1,1,1,1,1,1,1,1,11,11,11,11,11,11,11,11,11,3,3,3,3,6,6,6,6,6,6,6,6,6,4,4,4,4,4,3,3,3,5,5,5,5,5,5,5,0,1,3,3,3,3,3,3,3,2,2,2,4,4,4,4,9,9,9,9,9,9,9,9,11,11,11,11,11,11,3,3,0,0,5,5,5,5,5,0,0,0,0,7,7,7,7,7,7,7,7,7,7,4,4,4,1,1,1,8,8,8,8,8,8,8,8,6,6,6,6,6,6,6,6,3,9,5,5,5,2,0,0,0,0,0,0,0,0,0,0,9,4,4,4,4,4,4,4,4,4,4,4,4,4,4,4,4,4,4,5,5,5,5,5,5,5,5,5,5,5,5,5,5,5,4,4,4,4,5,5,5,0,0,0,0,0,0,0,0,0,0,0,0,0,0,0,1,1,1,1,1,1,1,1,1,1,1,1,1,1,3,3,3,3,3,3,3,3,3,9,9,9,9,9,9,9,10,10,10,10,10,10,10,10,4,4,4,4,4,4,4,4,4,4,4,8,8,8,8,8,8,8,8,8,5,5,5,11,11,11,11,11,11,11,11,3,3,3,3,3,5,5,5,5,5,5,5,5,5,5,5,5,5,5,0,0,6,6,6,6,6,6,6,6,6,6,6,7,7,7,7,7,7,7,7,7,7,2,2,2,2,2,2,5,5,5,5,5,1,1,2,2,2,2,2,2,2,2,2,2,2,2,2,2,4,4,5,5,5,5,5,5,5,5,5,5,5,0,0,0,0,1,1,1,0,0,0,4,11,11,11,11,11,11,0,0,0,0,0,0,0,0,0,0,0,0,0,0,0,0,0,0,0,0,1,1,1,5,2,2,3,3,3,3,3,2,2,2,1,1,1,1,1,1,1,1,1,1,1,1,1,1,1,1,1,1,1,3,3,3,3,3,3,3,3,3,3,3,3,3,3,3,3,3,3,3,3,0,0,0,6,6,6,6,6,6,6,6,6,6,6,4,4,4,4,5,5,5,5,4,4,4,4,4,4,4,4,4,4,4,4,4,2,2,2,2,2,2,2,2,2,2,2,2,2,6,1,1,1,1,7,7,7,7,7,7,7,7,7,7,8,8,8,8,8,8,8,8,8,8,9,9,9,9,9,9,9,9,9,9,10,10,10,10,10,10],\"xaxis\":\"x\",\"yaxis\":\"y\",\"type\":\"histogram\"}],                        {\"template\":{\"data\":{\"bar\":[{\"error_x\":{\"color\":\"#2a3f5f\"},\"error_y\":{\"color\":\"#2a3f5f\"},\"marker\":{\"line\":{\"color\":\"#E5ECF6\",\"width\":0.5},\"pattern\":{\"fillmode\":\"overlay\",\"size\":10,\"solidity\":0.2}},\"type\":\"bar\"}],\"barpolar\":[{\"marker\":{\"line\":{\"color\":\"#E5ECF6\",\"width\":0.5},\"pattern\":{\"fillmode\":\"overlay\",\"size\":10,\"solidity\":0.2}},\"type\":\"barpolar\"}],\"carpet\":[{\"aaxis\":{\"endlinecolor\":\"#2a3f5f\",\"gridcolor\":\"white\",\"linecolor\":\"white\",\"minorgridcolor\":\"white\",\"startlinecolor\":\"#2a3f5f\"},\"baxis\":{\"endlinecolor\":\"#2a3f5f\",\"gridcolor\":\"white\",\"linecolor\":\"white\",\"minorgridcolor\":\"white\",\"startlinecolor\":\"#2a3f5f\"},\"type\":\"carpet\"}],\"choropleth\":[{\"colorbar\":{\"outlinewidth\":0,\"ticks\":\"\"},\"type\":\"choropleth\"}],\"contour\":[{\"colorbar\":{\"outlinewidth\":0,\"ticks\":\"\"},\"colorscale\":[[0.0,\"#0d0887\"],[0.1111111111111111,\"#46039f\"],[0.2222222222222222,\"#7201a8\"],[0.3333333333333333,\"#9c179e\"],[0.4444444444444444,\"#bd3786\"],[0.5555555555555556,\"#d8576b\"],[0.6666666666666666,\"#ed7953\"],[0.7777777777777778,\"#fb9f3a\"],[0.8888888888888888,\"#fdca26\"],[1.0,\"#f0f921\"]],\"type\":\"contour\"}],\"contourcarpet\":[{\"colorbar\":{\"outlinewidth\":0,\"ticks\":\"\"},\"type\":\"contourcarpet\"}],\"heatmap\":[{\"colorbar\":{\"outlinewidth\":0,\"ticks\":\"\"},\"colorscale\":[[0.0,\"#0d0887\"],[0.1111111111111111,\"#46039f\"],[0.2222222222222222,\"#7201a8\"],[0.3333333333333333,\"#9c179e\"],[0.4444444444444444,\"#bd3786\"],[0.5555555555555556,\"#d8576b\"],[0.6666666666666666,\"#ed7953\"],[0.7777777777777778,\"#fb9f3a\"],[0.8888888888888888,\"#fdca26\"],[1.0,\"#f0f921\"]],\"type\":\"heatmap\"}],\"heatmapgl\":[{\"colorbar\":{\"outlinewidth\":0,\"ticks\":\"\"},\"colorscale\":[[0.0,\"#0d0887\"],[0.1111111111111111,\"#46039f\"],[0.2222222222222222,\"#7201a8\"],[0.3333333333333333,\"#9c179e\"],[0.4444444444444444,\"#bd3786\"],[0.5555555555555556,\"#d8576b\"],[0.6666666666666666,\"#ed7953\"],[0.7777777777777778,\"#fb9f3a\"],[0.8888888888888888,\"#fdca26\"],[1.0,\"#f0f921\"]],\"type\":\"heatmapgl\"}],\"histogram\":[{\"marker\":{\"pattern\":{\"fillmode\":\"overlay\",\"size\":10,\"solidity\":0.2}},\"type\":\"histogram\"}],\"histogram2d\":[{\"colorbar\":{\"outlinewidth\":0,\"ticks\":\"\"},\"colorscale\":[[0.0,\"#0d0887\"],[0.1111111111111111,\"#46039f\"],[0.2222222222222222,\"#7201a8\"],[0.3333333333333333,\"#9c179e\"],[0.4444444444444444,\"#bd3786\"],[0.5555555555555556,\"#d8576b\"],[0.6666666666666666,\"#ed7953\"],[0.7777777777777778,\"#fb9f3a\"],[0.8888888888888888,\"#fdca26\"],[1.0,\"#f0f921\"]],\"type\":\"histogram2d\"}],\"histogram2dcontour\":[{\"colorbar\":{\"outlinewidth\":0,\"ticks\":\"\"},\"colorscale\":[[0.0,\"#0d0887\"],[0.1111111111111111,\"#46039f\"],[0.2222222222222222,\"#7201a8\"],[0.3333333333333333,\"#9c179e\"],[0.4444444444444444,\"#bd3786\"],[0.5555555555555556,\"#d8576b\"],[0.6666666666666666,\"#ed7953\"],[0.7777777777777778,\"#fb9f3a\"],[0.8888888888888888,\"#fdca26\"],[1.0,\"#f0f921\"]],\"type\":\"histogram2dcontour\"}],\"mesh3d\":[{\"colorbar\":{\"outlinewidth\":0,\"ticks\":\"\"},\"type\":\"mesh3d\"}],\"parcoords\":[{\"line\":{\"colorbar\":{\"outlinewidth\":0,\"ticks\":\"\"}},\"type\":\"parcoords\"}],\"pie\":[{\"automargin\":true,\"type\":\"pie\"}],\"scatter\":[{\"marker\":{\"colorbar\":{\"outlinewidth\":0,\"ticks\":\"\"}},\"type\":\"scatter\"}],\"scatter3d\":[{\"line\":{\"colorbar\":{\"outlinewidth\":0,\"ticks\":\"\"}},\"marker\":{\"colorbar\":{\"outlinewidth\":0,\"ticks\":\"\"}},\"type\":\"scatter3d\"}],\"scattercarpet\":[{\"marker\":{\"colorbar\":{\"outlinewidth\":0,\"ticks\":\"\"}},\"type\":\"scattercarpet\"}],\"scattergeo\":[{\"marker\":{\"colorbar\":{\"outlinewidth\":0,\"ticks\":\"\"}},\"type\":\"scattergeo\"}],\"scattergl\":[{\"marker\":{\"colorbar\":{\"outlinewidth\":0,\"ticks\":\"\"}},\"type\":\"scattergl\"}],\"scattermapbox\":[{\"marker\":{\"colorbar\":{\"outlinewidth\":0,\"ticks\":\"\"}},\"type\":\"scattermapbox\"}],\"scatterpolar\":[{\"marker\":{\"colorbar\":{\"outlinewidth\":0,\"ticks\":\"\"}},\"type\":\"scatterpolar\"}],\"scatterpolargl\":[{\"marker\":{\"colorbar\":{\"outlinewidth\":0,\"ticks\":\"\"}},\"type\":\"scatterpolargl\"}],\"scatterternary\":[{\"marker\":{\"colorbar\":{\"outlinewidth\":0,\"ticks\":\"\"}},\"type\":\"scatterternary\"}],\"surface\":[{\"colorbar\":{\"outlinewidth\":0,\"ticks\":\"\"},\"colorscale\":[[0.0,\"#0d0887\"],[0.1111111111111111,\"#46039f\"],[0.2222222222222222,\"#7201a8\"],[0.3333333333333333,\"#9c179e\"],[0.4444444444444444,\"#bd3786\"],[0.5555555555555556,\"#d8576b\"],[0.6666666666666666,\"#ed7953\"],[0.7777777777777778,\"#fb9f3a\"],[0.8888888888888888,\"#fdca26\"],[1.0,\"#f0f921\"]],\"type\":\"surface\"}],\"table\":[{\"cells\":{\"fill\":{\"color\":\"#EBF0F8\"},\"line\":{\"color\":\"white\"}},\"header\":{\"fill\":{\"color\":\"#C8D4E3\"},\"line\":{\"color\":\"white\"}},\"type\":\"table\"}]},\"layout\":{\"annotationdefaults\":{\"arrowcolor\":\"#2a3f5f\",\"arrowhead\":0,\"arrowwidth\":1},\"autotypenumbers\":\"strict\",\"coloraxis\":{\"colorbar\":{\"outlinewidth\":0,\"ticks\":\"\"}},\"colorscale\":{\"diverging\":[[0,\"#8e0152\"],[0.1,\"#c51b7d\"],[0.2,\"#de77ae\"],[0.3,\"#f1b6da\"],[0.4,\"#fde0ef\"],[0.5,\"#f7f7f7\"],[0.6,\"#e6f5d0\"],[0.7,\"#b8e186\"],[0.8,\"#7fbc41\"],[0.9,\"#4d9221\"],[1,\"#276419\"]],\"sequential\":[[0.0,\"#0d0887\"],[0.1111111111111111,\"#46039f\"],[0.2222222222222222,\"#7201a8\"],[0.3333333333333333,\"#9c179e\"],[0.4444444444444444,\"#bd3786\"],[0.5555555555555556,\"#d8576b\"],[0.6666666666666666,\"#ed7953\"],[0.7777777777777778,\"#fb9f3a\"],[0.8888888888888888,\"#fdca26\"],[1.0,\"#f0f921\"]],\"sequentialminus\":[[0.0,\"#0d0887\"],[0.1111111111111111,\"#46039f\"],[0.2222222222222222,\"#7201a8\"],[0.3333333333333333,\"#9c179e\"],[0.4444444444444444,\"#bd3786\"],[0.5555555555555556,\"#d8576b\"],[0.6666666666666666,\"#ed7953\"],[0.7777777777777778,\"#fb9f3a\"],[0.8888888888888888,\"#fdca26\"],[1.0,\"#f0f921\"]]},\"colorway\":[\"#636efa\",\"#EF553B\",\"#00cc96\",\"#ab63fa\",\"#FFA15A\",\"#19d3f3\",\"#FF6692\",\"#B6E880\",\"#FF97FF\",\"#FECB52\"],\"font\":{\"color\":\"#2a3f5f\"},\"geo\":{\"bgcolor\":\"white\",\"lakecolor\":\"white\",\"landcolor\":\"#E5ECF6\",\"showlakes\":true,\"showland\":true,\"subunitcolor\":\"white\"},\"hoverlabel\":{\"align\":\"left\"},\"hovermode\":\"closest\",\"mapbox\":{\"style\":\"light\"},\"paper_bgcolor\":\"white\",\"plot_bgcolor\":\"#E5ECF6\",\"polar\":{\"angularaxis\":{\"gridcolor\":\"white\",\"linecolor\":\"white\",\"ticks\":\"\"},\"bgcolor\":\"#E5ECF6\",\"radialaxis\":{\"gridcolor\":\"white\",\"linecolor\":\"white\",\"ticks\":\"\"}},\"scene\":{\"xaxis\":{\"backgroundcolor\":\"#E5ECF6\",\"gridcolor\":\"white\",\"gridwidth\":2,\"linecolor\":\"white\",\"showbackground\":true,\"ticks\":\"\",\"zerolinecolor\":\"white\"},\"yaxis\":{\"backgroundcolor\":\"#E5ECF6\",\"gridcolor\":\"white\",\"gridwidth\":2,\"linecolor\":\"white\",\"showbackground\":true,\"ticks\":\"\",\"zerolinecolor\":\"white\"},\"zaxis\":{\"backgroundcolor\":\"#E5ECF6\",\"gridcolor\":\"white\",\"gridwidth\":2,\"linecolor\":\"white\",\"showbackground\":true,\"ticks\":\"\",\"zerolinecolor\":\"white\"}},\"shapedefaults\":{\"line\":{\"color\":\"#2a3f5f\"}},\"ternary\":{\"aaxis\":{\"gridcolor\":\"white\",\"linecolor\":\"white\",\"ticks\":\"\"},\"baxis\":{\"gridcolor\":\"white\",\"linecolor\":\"white\",\"ticks\":\"\"},\"bgcolor\":\"#E5ECF6\",\"caxis\":{\"gridcolor\":\"white\",\"linecolor\":\"white\",\"ticks\":\"\"}},\"title\":{\"x\":0.05},\"xaxis\":{\"automargin\":true,\"gridcolor\":\"white\",\"linecolor\":\"white\",\"ticks\":\"\",\"title\":{\"standoff\":15},\"zerolinecolor\":\"white\",\"zerolinewidth\":2},\"yaxis\":{\"automargin\":true,\"gridcolor\":\"white\",\"linecolor\":\"white\",\"ticks\":\"\",\"title\":{\"standoff\":15},\"zerolinecolor\":\"white\",\"zerolinewidth\":2}}},\"xaxis\":{\"anchor\":\"y\",\"domain\":[0.0,1.0],\"title\":{\"text\":\"value\"}},\"yaxis\":{\"anchor\":\"x\",\"domain\":[0.0,1.0],\"title\":{\"text\":\"count\"}},\"legend\":{\"title\":{\"text\":\"variable\"},\"tracegroupgap\":0},\"title\":{\"text\":\"HISTOGRAMA DE LA COLUMNA \\\"CODIGO_GRADO\\\"\"},\"barmode\":\"relative\"},                        {\"responsive\": true}                    ).then(function(){\n",
              "                            \n",
              "var gd = document.getElementById('dc0ac6c6-2d0e-43cb-91d8-a35c422d1a0a');\n",
              "var x = new MutationObserver(function (mutations, observer) {{\n",
              "        var display = window.getComputedStyle(gd).display;\n",
              "        if (!display || display === 'none') {{\n",
              "            console.log([gd, 'removed!']);\n",
              "            Plotly.purge(gd);\n",
              "            observer.disconnect();\n",
              "        }}\n",
              "}});\n",
              "\n",
              "// Listen for the removal of the full notebook cells\n",
              "var notebookContainer = gd.closest('#notebook-container');\n",
              "if (notebookContainer) {{\n",
              "    x.observe(notebookContainer, {childList: true});\n",
              "}}\n",
              "\n",
              "// Listen for the clearing of the current output cell\n",
              "var outputEl = gd.closest('.output');\n",
              "if (outputEl) {{\n",
              "    x.observe(outputEl, {childList: true});\n",
              "}}\n",
              "\n",
              "                        })                };                            </script>        </div>\n",
              "</body>\n",
              "</html>"
            ]
          },
          "metadata": {}
        }
      ]
    },
    {
      "cell_type": "code",
      "source": [
        "# Seleccionamos la columna \"valores\"\n",
        "valores = original_df['ANNO_INF']\n",
        "\n",
        "# Creamos un histograma con 20 bins\n",
        "fig = px.histogram(valores, nbins=20, title= 'HISTOGRAMA DE LA COLUMNA \"ANNO_INFO\"')\n",
        "\n",
        "# Mostramos el histograma\n",
        "fig.show()"
      ],
      "metadata": {
        "colab": {
          "base_uri": "https://localhost:8080/",
          "height": 542
        },
        "id": "U4RQeo_8wAgA",
        "outputId": "5ccc4640-ccb2-4d2e-fcd7-27f7a0336084"
      },
      "execution_count": null,
      "outputs": [
        {
          "output_type": "display_data",
          "data": {
            "text/html": [
              "<html>\n",
              "<head><meta charset=\"utf-8\" /></head>\n",
              "<body>\n",
              "    <div>            <script src=\"https://cdnjs.cloudflare.com/ajax/libs/mathjax/2.7.5/MathJax.js?config=TeX-AMS-MML_SVG\"></script><script type=\"text/javascript\">if (window.MathJax) {MathJax.Hub.Config({SVG: {font: \"STIX-Web\"}});}</script>                <script type=\"text/javascript\">window.PlotlyConfig = {MathJaxConfig: 'local'};</script>\n",
              "        <script src=\"https://cdn.plot.ly/plotly-2.8.3.min.js\"></script>                <div id=\"e260b8f5-9314-46c5-99cb-317d1b535778\" class=\"plotly-graph-div\" style=\"height:525px; width:100%;\"></div>            <script type=\"text/javascript\">                                    window.PLOTLYENV=window.PLOTLYENV || {};                                    if (document.getElementById(\"e260b8f5-9314-46c5-99cb-317d1b535778\")) {                    Plotly.newPlot(                        \"e260b8f5-9314-46c5-99cb-317d1b535778\",                        [{\"alignmentgroup\":\"True\",\"bingroup\":\"x\",\"hovertemplate\":\"variable=ANNO_INF<br>value=%{x}<br>count=%{y}<extra></extra>\",\"legendgroup\":\"ANNO_INF\",\"marker\":{\"color\":\"#636efa\",\"pattern\":{\"shape\":\"\"}},\"name\":\"ANNO_INF\",\"nbinsx\":20,\"offsetgroup\":\"ANNO_INF\",\"orientation\":\"v\",\"showlegend\":true,\"x\":[2019,2019,2019,2019,2019,2019,2019,2019,2019,2019,2019,2019,2019,2019,2019,2019,2019,2019,2019,2019,2019,2019,2019,2019,2019,2019,2019,2019,2019,2019,2019,2019,2019,2019,2019,2019,2019,2019,2019,2018,2018,2018,2018,2018,2018,2018,2018,2018,2018,2018,2018,2018,2018,2018,2018,2018,2018,2018,2018,2018,2018,2018,2018,2018,2018,2018,2018,2018,2018,2018,2018,2018,2018,2018,2018,2018,2018,2018,2018,2018,2018,2018,2018,2018,2018,2018,2018,2018,2018,2018,2018,2018,2018,2018,2018,2018,2018,2018,2018,2018,2018,2018,2018,2018,2018,2018,2018,2018,2018,2018,2018,2018,2018,2018,2018,2018,2018,2018,2018,2018,2018,2018,2018,2018,2018,2018,2018,2018,2018,2018,2018,2018,2018,2018,2018,2018,2018,2018,2018,2018,2018,2018,2018,2018,2018,2018,2018,2018,2018,2018,2018,2018,2018,2018,2018,2018,2018,2018,2018,2018,2018,2018,2018,2018,2018,2018,2018,2018,2018,2018,2018,2018,2018,2018,2018,2018,2018,2018,2018,2018,2018,2018,2018,2018,2018,2018,2018,2018,2018,2018,2018,2018,2018,2018,2018,2018,2018,2018,2018,2019,2019,2019,2019,2019,2019,2019,2019,2019,2019,2019,2019,2019,2019,2019,2019,2019,2019,2019,2019,2019,2019,2019,2019,2019,2019,2019,2019,2019,2019,2019,2019,2019,2019,2019,2019,2019,2019,2019,2019,2019,2019,2019,2019,2019,2019,2019,2019,2019,2019,2019,2019,2019,2019,2019,2019,2019,2019,2019,2019,2019,2019,2019,2019,2019,2019,2019,2019,2019,2019,2019,2019,2019,2019,2019,2019,2019,2019,2019,2019,2019,2019,2019,2019,2019,2019,2019,2019,2019,2019,2019,2019,2019,2019,2019,2019,2019,2019,2019,2019,2019,2019,2019,2019,2019,2019,2019,2019,2019,2019,2019,2019,2019,2019,2019,2019,2019,2019,2019,2019,2019,2019,2019,2019,2020,2020,2020,2020,2020,2020,2020,2020,2020,2020,2020,2020,2020,2020,2020,2020,2020,2020,2020,2020,2020,2020,2020,2020,2020,2020,2020,2020,2020,2020,2020,2020,2020,2020,2020,2020,2020,2020,2020,2020,2020,2020,2020,2020,2020,2020,2020,2020,2020,2020,2020,2020,2020,2020,2020,2020,2020,2020,2020,2020,2020,2020,2020,2020,2020,2020,2020,2020,2020,2020,2020,2020,2020,2020,2020,2020,2020,2020,2020,2020,2020,2020,2020,2020,2020,2020,2020,2020,2020,2020,2020,2020,2020,2020,2020,2020,2020,2020,2020,2020,2020,2020,2020,2020,2020,2020,2020,2020,2020,2020,2021,2021,2020,2020,2020,2020,2020,2020,2020,2020,2020,2020,2020,2020,2020,2020,2020,2020,2020,2020,2020,2020,2020,2020,2020,2020,2020,2020,2020,2020,2020,2020,2020,2020,2020,2020,2020,2020,2020,2020,2020,2020,2020,2020,2020,2020,2020,2020,2020,2020,2020,2020,2021,2021,2021,2021,2021,2021,2021,2021,2021,2021,2021,2020,2020,2020,2020,2020,2020,2020,2020,2020,2020,2021,2021,2021,2021,2021,2021,2021,2021,2021,2021,2021,2021,2021,2021,2021,2021,2021,2021,2021,2021,2021,2021,2021,2021,2021,2021,2021,2021,2021,2021,2021,2021,2021,2021,2021,2021,2021,2021,2021,2021,2021,2021,2021,2021,2021,2021,2021,2021,2021,2021,2021,2021,2021,2021,2021,2021,2021,2021,2021,2021,2021,2021,2021,2021,2021,2021,2021,2021,2021,2021,2021,2021,2021,2021,2021,2021,2021,2021,2021,2021,2021,2021,2021,2021,2021,2021,2021,2021,2021,2021,2021,2021,2021,2021,2021,2021,2021,2021,2021,2021,2021,2021,2021,2021,2021,2021,2021,2021,2021,2021,2021,2021,2021,2021,2021,2021,2021,2021,2021,2021,2021,2021,2021,2021,2021,2021,2021,2021,2021,2021,2021,2021,2021,2021,2021,2021,2021,2021,2021,2021,2021,2021,2021,2021,2021,2021,2021,2021,2021,2021,2021,2021,2021,2021,2021,2021,2021,2021,2021,2021,2021,2021,2021,2021,2021,2021,2021,2021,2021],\"xaxis\":\"x\",\"yaxis\":\"y\",\"type\":\"histogram\"}],                        {\"template\":{\"data\":{\"bar\":[{\"error_x\":{\"color\":\"#2a3f5f\"},\"error_y\":{\"color\":\"#2a3f5f\"},\"marker\":{\"line\":{\"color\":\"#E5ECF6\",\"width\":0.5},\"pattern\":{\"fillmode\":\"overlay\",\"size\":10,\"solidity\":0.2}},\"type\":\"bar\"}],\"barpolar\":[{\"marker\":{\"line\":{\"color\":\"#E5ECF6\",\"width\":0.5},\"pattern\":{\"fillmode\":\"overlay\",\"size\":10,\"solidity\":0.2}},\"type\":\"barpolar\"}],\"carpet\":[{\"aaxis\":{\"endlinecolor\":\"#2a3f5f\",\"gridcolor\":\"white\",\"linecolor\":\"white\",\"minorgridcolor\":\"white\",\"startlinecolor\":\"#2a3f5f\"},\"baxis\":{\"endlinecolor\":\"#2a3f5f\",\"gridcolor\":\"white\",\"linecolor\":\"white\",\"minorgridcolor\":\"white\",\"startlinecolor\":\"#2a3f5f\"},\"type\":\"carpet\"}],\"choropleth\":[{\"colorbar\":{\"outlinewidth\":0,\"ticks\":\"\"},\"type\":\"choropleth\"}],\"contour\":[{\"colorbar\":{\"outlinewidth\":0,\"ticks\":\"\"},\"colorscale\":[[0.0,\"#0d0887\"],[0.1111111111111111,\"#46039f\"],[0.2222222222222222,\"#7201a8\"],[0.3333333333333333,\"#9c179e\"],[0.4444444444444444,\"#bd3786\"],[0.5555555555555556,\"#d8576b\"],[0.6666666666666666,\"#ed7953\"],[0.7777777777777778,\"#fb9f3a\"],[0.8888888888888888,\"#fdca26\"],[1.0,\"#f0f921\"]],\"type\":\"contour\"}],\"contourcarpet\":[{\"colorbar\":{\"outlinewidth\":0,\"ticks\":\"\"},\"type\":\"contourcarpet\"}],\"heatmap\":[{\"colorbar\":{\"outlinewidth\":0,\"ticks\":\"\"},\"colorscale\":[[0.0,\"#0d0887\"],[0.1111111111111111,\"#46039f\"],[0.2222222222222222,\"#7201a8\"],[0.3333333333333333,\"#9c179e\"],[0.4444444444444444,\"#bd3786\"],[0.5555555555555556,\"#d8576b\"],[0.6666666666666666,\"#ed7953\"],[0.7777777777777778,\"#fb9f3a\"],[0.8888888888888888,\"#fdca26\"],[1.0,\"#f0f921\"]],\"type\":\"heatmap\"}],\"heatmapgl\":[{\"colorbar\":{\"outlinewidth\":0,\"ticks\":\"\"},\"colorscale\":[[0.0,\"#0d0887\"],[0.1111111111111111,\"#46039f\"],[0.2222222222222222,\"#7201a8\"],[0.3333333333333333,\"#9c179e\"],[0.4444444444444444,\"#bd3786\"],[0.5555555555555556,\"#d8576b\"],[0.6666666666666666,\"#ed7953\"],[0.7777777777777778,\"#fb9f3a\"],[0.8888888888888888,\"#fdca26\"],[1.0,\"#f0f921\"]],\"type\":\"heatmapgl\"}],\"histogram\":[{\"marker\":{\"pattern\":{\"fillmode\":\"overlay\",\"size\":10,\"solidity\":0.2}},\"type\":\"histogram\"}],\"histogram2d\":[{\"colorbar\":{\"outlinewidth\":0,\"ticks\":\"\"},\"colorscale\":[[0.0,\"#0d0887\"],[0.1111111111111111,\"#46039f\"],[0.2222222222222222,\"#7201a8\"],[0.3333333333333333,\"#9c179e\"],[0.4444444444444444,\"#bd3786\"],[0.5555555555555556,\"#d8576b\"],[0.6666666666666666,\"#ed7953\"],[0.7777777777777778,\"#fb9f3a\"],[0.8888888888888888,\"#fdca26\"],[1.0,\"#f0f921\"]],\"type\":\"histogram2d\"}],\"histogram2dcontour\":[{\"colorbar\":{\"outlinewidth\":0,\"ticks\":\"\"},\"colorscale\":[[0.0,\"#0d0887\"],[0.1111111111111111,\"#46039f\"],[0.2222222222222222,\"#7201a8\"],[0.3333333333333333,\"#9c179e\"],[0.4444444444444444,\"#bd3786\"],[0.5555555555555556,\"#d8576b\"],[0.6666666666666666,\"#ed7953\"],[0.7777777777777778,\"#fb9f3a\"],[0.8888888888888888,\"#fdca26\"],[1.0,\"#f0f921\"]],\"type\":\"histogram2dcontour\"}],\"mesh3d\":[{\"colorbar\":{\"outlinewidth\":0,\"ticks\":\"\"},\"type\":\"mesh3d\"}],\"parcoords\":[{\"line\":{\"colorbar\":{\"outlinewidth\":0,\"ticks\":\"\"}},\"type\":\"parcoords\"}],\"pie\":[{\"automargin\":true,\"type\":\"pie\"}],\"scatter\":[{\"marker\":{\"colorbar\":{\"outlinewidth\":0,\"ticks\":\"\"}},\"type\":\"scatter\"}],\"scatter3d\":[{\"line\":{\"colorbar\":{\"outlinewidth\":0,\"ticks\":\"\"}},\"marker\":{\"colorbar\":{\"outlinewidth\":0,\"ticks\":\"\"}},\"type\":\"scatter3d\"}],\"scattercarpet\":[{\"marker\":{\"colorbar\":{\"outlinewidth\":0,\"ticks\":\"\"}},\"type\":\"scattercarpet\"}],\"scattergeo\":[{\"marker\":{\"colorbar\":{\"outlinewidth\":0,\"ticks\":\"\"}},\"type\":\"scattergeo\"}],\"scattergl\":[{\"marker\":{\"colorbar\":{\"outlinewidth\":0,\"ticks\":\"\"}},\"type\":\"scattergl\"}],\"scattermapbox\":[{\"marker\":{\"colorbar\":{\"outlinewidth\":0,\"ticks\":\"\"}},\"type\":\"scattermapbox\"}],\"scatterpolar\":[{\"marker\":{\"colorbar\":{\"outlinewidth\":0,\"ticks\":\"\"}},\"type\":\"scatterpolar\"}],\"scatterpolargl\":[{\"marker\":{\"colorbar\":{\"outlinewidth\":0,\"ticks\":\"\"}},\"type\":\"scatterpolargl\"}],\"scatterternary\":[{\"marker\":{\"colorbar\":{\"outlinewidth\":0,\"ticks\":\"\"}},\"type\":\"scatterternary\"}],\"surface\":[{\"colorbar\":{\"outlinewidth\":0,\"ticks\":\"\"},\"colorscale\":[[0.0,\"#0d0887\"],[0.1111111111111111,\"#46039f\"],[0.2222222222222222,\"#7201a8\"],[0.3333333333333333,\"#9c179e\"],[0.4444444444444444,\"#bd3786\"],[0.5555555555555556,\"#d8576b\"],[0.6666666666666666,\"#ed7953\"],[0.7777777777777778,\"#fb9f3a\"],[0.8888888888888888,\"#fdca26\"],[1.0,\"#f0f921\"]],\"type\":\"surface\"}],\"table\":[{\"cells\":{\"fill\":{\"color\":\"#EBF0F8\"},\"line\":{\"color\":\"white\"}},\"header\":{\"fill\":{\"color\":\"#C8D4E3\"},\"line\":{\"color\":\"white\"}},\"type\":\"table\"}]},\"layout\":{\"annotationdefaults\":{\"arrowcolor\":\"#2a3f5f\",\"arrowhead\":0,\"arrowwidth\":1},\"autotypenumbers\":\"strict\",\"coloraxis\":{\"colorbar\":{\"outlinewidth\":0,\"ticks\":\"\"}},\"colorscale\":{\"diverging\":[[0,\"#8e0152\"],[0.1,\"#c51b7d\"],[0.2,\"#de77ae\"],[0.3,\"#f1b6da\"],[0.4,\"#fde0ef\"],[0.5,\"#f7f7f7\"],[0.6,\"#e6f5d0\"],[0.7,\"#b8e186\"],[0.8,\"#7fbc41\"],[0.9,\"#4d9221\"],[1,\"#276419\"]],\"sequential\":[[0.0,\"#0d0887\"],[0.1111111111111111,\"#46039f\"],[0.2222222222222222,\"#7201a8\"],[0.3333333333333333,\"#9c179e\"],[0.4444444444444444,\"#bd3786\"],[0.5555555555555556,\"#d8576b\"],[0.6666666666666666,\"#ed7953\"],[0.7777777777777778,\"#fb9f3a\"],[0.8888888888888888,\"#fdca26\"],[1.0,\"#f0f921\"]],\"sequentialminus\":[[0.0,\"#0d0887\"],[0.1111111111111111,\"#46039f\"],[0.2222222222222222,\"#7201a8\"],[0.3333333333333333,\"#9c179e\"],[0.4444444444444444,\"#bd3786\"],[0.5555555555555556,\"#d8576b\"],[0.6666666666666666,\"#ed7953\"],[0.7777777777777778,\"#fb9f3a\"],[0.8888888888888888,\"#fdca26\"],[1.0,\"#f0f921\"]]},\"colorway\":[\"#636efa\",\"#EF553B\",\"#00cc96\",\"#ab63fa\",\"#FFA15A\",\"#19d3f3\",\"#FF6692\",\"#B6E880\",\"#FF97FF\",\"#FECB52\"],\"font\":{\"color\":\"#2a3f5f\"},\"geo\":{\"bgcolor\":\"white\",\"lakecolor\":\"white\",\"landcolor\":\"#E5ECF6\",\"showlakes\":true,\"showland\":true,\"subunitcolor\":\"white\"},\"hoverlabel\":{\"align\":\"left\"},\"hovermode\":\"closest\",\"mapbox\":{\"style\":\"light\"},\"paper_bgcolor\":\"white\",\"plot_bgcolor\":\"#E5ECF6\",\"polar\":{\"angularaxis\":{\"gridcolor\":\"white\",\"linecolor\":\"white\",\"ticks\":\"\"},\"bgcolor\":\"#E5ECF6\",\"radialaxis\":{\"gridcolor\":\"white\",\"linecolor\":\"white\",\"ticks\":\"\"}},\"scene\":{\"xaxis\":{\"backgroundcolor\":\"#E5ECF6\",\"gridcolor\":\"white\",\"gridwidth\":2,\"linecolor\":\"white\",\"showbackground\":true,\"ticks\":\"\",\"zerolinecolor\":\"white\"},\"yaxis\":{\"backgroundcolor\":\"#E5ECF6\",\"gridcolor\":\"white\",\"gridwidth\":2,\"linecolor\":\"white\",\"showbackground\":true,\"ticks\":\"\",\"zerolinecolor\":\"white\"},\"zaxis\":{\"backgroundcolor\":\"#E5ECF6\",\"gridcolor\":\"white\",\"gridwidth\":2,\"linecolor\":\"white\",\"showbackground\":true,\"ticks\":\"\",\"zerolinecolor\":\"white\"}},\"shapedefaults\":{\"line\":{\"color\":\"#2a3f5f\"}},\"ternary\":{\"aaxis\":{\"gridcolor\":\"white\",\"linecolor\":\"white\",\"ticks\":\"\"},\"baxis\":{\"gridcolor\":\"white\",\"linecolor\":\"white\",\"ticks\":\"\"},\"bgcolor\":\"#E5ECF6\",\"caxis\":{\"gridcolor\":\"white\",\"linecolor\":\"white\",\"ticks\":\"\"}},\"title\":{\"x\":0.05},\"xaxis\":{\"automargin\":true,\"gridcolor\":\"white\",\"linecolor\":\"white\",\"ticks\":\"\",\"title\":{\"standoff\":15},\"zerolinecolor\":\"white\",\"zerolinewidth\":2},\"yaxis\":{\"automargin\":true,\"gridcolor\":\"white\",\"linecolor\":\"white\",\"ticks\":\"\",\"title\":{\"standoff\":15},\"zerolinecolor\":\"white\",\"zerolinewidth\":2}}},\"xaxis\":{\"anchor\":\"y\",\"domain\":[0.0,1.0],\"title\":{\"text\":\"value\"}},\"yaxis\":{\"anchor\":\"x\",\"domain\":[0.0,1.0],\"title\":{\"text\":\"count\"}},\"legend\":{\"title\":{\"text\":\"variable\"},\"tracegroupgap\":0},\"title\":{\"text\":\"HISTOGRAMA DE LA COLUMNA \\\"ANNO_INFO\\\"\"},\"barmode\":\"relative\"},                        {\"responsive\": true}                    ).then(function(){\n",
              "                            \n",
              "var gd = document.getElementById('e260b8f5-9314-46c5-99cb-317d1b535778');\n",
              "var x = new MutationObserver(function (mutations, observer) {{\n",
              "        var display = window.getComputedStyle(gd).display;\n",
              "        if (!display || display === 'none') {{\n",
              "            console.log([gd, 'removed!']);\n",
              "            Plotly.purge(gd);\n",
              "            observer.disconnect();\n",
              "        }}\n",
              "}});\n",
              "\n",
              "// Listen for the removal of the full notebook cells\n",
              "var notebookContainer = gd.closest('#notebook-container');\n",
              "if (notebookContainer) {{\n",
              "    x.observe(notebookContainer, {childList: true});\n",
              "}}\n",
              "\n",
              "// Listen for the clearing of the current output cell\n",
              "var outputEl = gd.closest('.output');\n",
              "if (outputEl) {{\n",
              "    x.observe(outputEl, {childList: true});\n",
              "}}\n",
              "\n",
              "                        })                };                            </script>        </div>\n",
              "</body>\n",
              "</html>"
            ]
          },
          "metadata": {}
        }
      ]
    },
    {
      "cell_type": "markdown",
      "source": [
        "**Diagrama Caja de bigotes**\n",
        "\n",
        "La caja de bigotes es una herramienta que nos sirve para visualizar la distribución de un conjunto de datos y compararla entre diferentes grupos o variable. Para realizar una caja de bigotes usamos la librería seaborn."
      ],
      "metadata": {
        "id": "CcNY2uBa8wKv"
      }
    },
    {
      "cell_type": "markdown",
      "source": [
        "**Explicación de como funciona una caja de bigotes.**\n",
        "\n",
        "La linea del centro representa la media, el cual es el valor que separa el conjunto de datos en dos partes iguales.\n",
        "Los \"bigotes\" son las lineas que se extiende desde los bordes del rectangualo hasta el valor minimo y maximo de los datos, excluyendo los valores atípicos.\n",
        "Los valores atípicos se muestran como puntos fuera de los bigotes."
      ],
      "metadata": {
        "id": "3GQD22J1AvDF"
      }
    },
    {
      "cell_type": "code",
      "source": [
        "plt.boxplot((original_df['ANNO_INF']))\n",
        "plt.show()"
      ],
      "metadata": {
        "id": "awiF-2Y_7fuG",
        "outputId": "a1e7a5ba-a625-40e3-93c5-cd29b7beb603",
        "colab": {
          "base_uri": "https://localhost:8080/",
          "height": 265
        }
      },
      "execution_count": null,
      "outputs": [
        {
          "output_type": "display_data",
          "data": {
            "text/plain": [
              "<Figure size 432x288 with 1 Axes>"
            ],
            "image/png": "[encoded data removed]"
          },
          "metadata": {
            "needs_background": "light"
          }
        }
      ]
    },
    {
      "cell_type": "code",
      "source": [
        "plt.boxplot((original_df['CODIGO_GRADO']))\n",
        "plt.show()"
      ],
      "metadata": {
        "colab": {
          "base_uri": "https://localhost:8080/",
          "height": 265
        },
        "id": "2-slvB8O7VW7",
        "outputId": "16f96b0f-c2f2-4536-8b80-04c1185dc304"
      },
      "execution_count": null,
      "outputs": [
        {
          "output_type": "display_data",
          "data": {
            "text/plain": [
              "<Figure size 432x288 with 1 Axes>"
            ],
            "image/png": "[encoded data removed]"
          },
          "metadata": {
            "needs_background": "light"
          }
        }
      ]
    },
    {
      "cell_type": "code",
      "source": [
        "plt.boxplot((original_df['EDAD']))\n",
        "plt.show()"
      ],
      "metadata": {
        "colab": {
          "base_uri": "https://localhost:8080/",
          "height": 265
        },
        "id": "3KvWzlIO5jfo",
        "outputId": "c92aadf3-e019-4591-fd7b-5eaaefb1744c"
      },
      "execution_count": null,
      "outputs": [
        {
          "output_type": "display_data",
          "data": {
            "text/plain": [
              "<Figure size 432x288 with 1 Axes>"
            ],
            "image/png": "[encoded data removed]"
          },
          "metadata": {
            "needs_background": "light"
          }
        }
      ]
    },
    {
      "cell_type": "markdown",
      "source": [
        "**FRECUENCIA ABSOLUTA**\n",
        "\n",
        "La frecuencia absoluta indica el numero de veces que un valor aparece en un conjunto de datos. Para calcularla utilizamos la función 'pd.value_counts()'.\n",
        "En este caso usamos las tres columnas cualitativas de nuestro dataframe las cuales son GENERO, ZONA y NOMBRE_SEDE."
      ],
      "metadata": {
        "id": "th3GrYu9Ua8t"
      }
    },
    {
      "cell_type": "code",
      "source": [
        "f_absoluta=pd.value_counts(original_df['GENERO'])\n",
        "f_absoluta"
      ],
      "metadata": {
        "colab": {
          "base_uri": "https://localhost:8080/"
        },
        "id": "xUqecfwRzE3e",
        "outputId": "475a0448-7efd-4de7-96f8-00b9feda81be"
      },
      "execution_count": null,
      "outputs": [
        {
          "output_type": "execute_result",
          "data": {
            "text/plain": [
              "Masculino    373\n",
              "Femenino     302\n",
              "Name: GENERO, dtype: int64"
            ]
          },
          "metadata": {},
          "execution_count": 72
        }
      ]
    },
    {
      "cell_type": "code",
      "source": [
        "f_absoluta=pd.value_counts(original_df['ZONA'])\n",
        "f_absoluta"
      ],
      "metadata": {
        "colab": {
          "base_uri": "https://localhost:8080/"
        },
        "id": "XAohXOTUg6EA",
        "outputId": "39979469-c0d6-44cc-debd-d38076a0a3ed"
      },
      "execution_count": null,
      "outputs": [
        {
          "output_type": "execute_result",
          "data": {
            "text/plain": [
              "Rural     371\n",
              "Urbana    304\n",
              "Name: ZONA, dtype: int64"
            ]
          },
          "metadata": {},
          "execution_count": 73
        }
      ]
    },
    {
      "cell_type": "code",
      "source": [
        "f_absoluta=pd.value_counts(original_df['NOMBRE_SEDE'])\n",
        "f_absoluta"
      ],
      "metadata": {
        "colab": {
          "base_uri": "https://localhost:8080/"
        },
        "id": "otHRd7Emg5ye",
        "outputId": "4336fa34-eced-491f-8862-7b649da491e9"
      },
      "execution_count": null,
      "outputs": [
        {
          "output_type": "execute_result",
          "data": {
            "text/plain": [
              "I.E. TECNICA MANUEL BRICEÑO - SEDE PRINCIPAL    211\n",
              "CONC URB                                         93\n",
              "ESC RURAL TARPEYA                                54\n",
              "COL BAS MEDIA LUNA                               42\n",
              "ESC RURAL VIJAGUAL                               36\n",
              "ESC MORAY ALTO                                   29\n",
              "ESC RURAL MORAY BAJO                             29\n",
              "ESC TABOR                                        27\n",
              "ESC DIAMANTE                                     26\n",
              "ESC BUENAVISTA ALTO                              25\n",
              "ESC PALO BLANCO                                  25\n",
              "ESC JORGE ARMANDO QUIROGA                        24\n",
              "ESC CUCAITA                                      24\n",
              "ESC MIGUEL ANTONIO LETRADO                       15\n",
              "ESC MINACHAL                                     15\n",
              "Name: NOMBRE_SEDE, dtype: int64"
            ]
          },
          "metadata": {},
          "execution_count": 74
        }
      ]
    },
    {
      "cell_type": "markdown",
      "source": [
        "**FRECUENCIA RELATIVA**\n",
        "\n",
        "Para calcular la frecuencia relativaa de un conjunto de datos se divide la frecuencia absoluta de caa valor por el número total de valores en el conjunto de datos. Usando la función 'value_counts' la cual sirve ara contar la frecuencia absoluta realizamos el calculo."
      ],
      "metadata": {
        "id": "CkUpKb0Rhbuc"
      }
    },
    {
      "cell_type": "code",
      "source": [
        "f_relativa = 100 * original_df['GENERO'].value_counts() / len(original_df['GENERO'])\n",
        "f_relativa"
      ],
      "metadata": {
        "colab": {
          "base_uri": "https://localhost:8080/"
        },
        "id": "BdkduumkzTK3",
        "outputId": "15d21dc3-fe68-4454-bd2e-17002d8ebc28"
      },
      "execution_count": null,
      "outputs": [
        {
          "output_type": "execute_result",
          "data": {
            "text/plain": [
              "Masculino    55.259259\n",
              "Femenino     44.740741\n",
              "Name: GENERO, dtype: float64"
            ]
          },
          "metadata": {},
          "execution_count": 75
        }
      ]
    },
    {
      "cell_type": "code",
      "source": [
        "f_relativa = 100 * original_df['ZONA'].value_counts() / len(original_df['ZONA'])\n",
        "f_relativa"
      ],
      "metadata": {
        "colab": {
          "base_uri": "https://localhost:8080/"
        },
        "id": "b4d2hSJ4hvkx",
        "outputId": "006d5537-d6b6-4a16-e502-7d2452b2cf71"
      },
      "execution_count": null,
      "outputs": [
        {
          "output_type": "execute_result",
          "data": {
            "text/plain": [
              "Rural     54.962963\n",
              "Urbana    45.037037\n",
              "Name: ZONA, dtype: float64"
            ]
          },
          "metadata": {},
          "execution_count": 76
        }
      ]
    },
    {
      "cell_type": "code",
      "source": [
        "f_relativa = 100 * original_df['NOMBRE_SEDE'].value_counts() / len(original_df['SECTOR'])\n",
        "f_relativa"
      ],
      "metadata": {
        "colab": {
          "base_uri": "https://localhost:8080/"
        },
        "id": "8B4sMyTchvHW",
        "outputId": "b83c90af-2c7e-4f52-9f29-ba4277fb778b"
      },
      "execution_count": null,
      "outputs": [
        {
          "output_type": "execute_result",
          "data": {
            "text/plain": [
              "I.E. TECNICA MANUEL BRICEÑO - SEDE PRINCIPAL    31.259259\n",
              "CONC URB                                        13.777778\n",
              "ESC RURAL TARPEYA                                8.000000\n",
              "COL BAS MEDIA LUNA                               6.222222\n",
              "ESC RURAL VIJAGUAL                               5.333333\n",
              "ESC MORAY ALTO                                   4.296296\n",
              "ESC RURAL MORAY BAJO                             4.296296\n",
              "ESC TABOR                                        4.000000\n",
              "ESC DIAMANTE                                     3.851852\n",
              "ESC BUENAVISTA ALTO                              3.703704\n",
              "ESC PALO BLANCO                                  3.703704\n",
              "ESC JORGE ARMANDO QUIROGA                        3.555556\n",
              "ESC CUCAITA                                      3.555556\n",
              "ESC MIGUEL ANTONIO LETRADO                       2.222222\n",
              "ESC MINACHAL                                     2.222222\n",
              "Name: NOMBRE_SEDE, dtype: float64"
            ]
          },
          "metadata": {},
          "execution_count": 77
        }
      ]
    },
    {
      "cell_type": "markdown",
      "source": [
        "**GRAFICAS**\n",
        "\n",
        "Para el siguiente paso graficamos las columnas anteriormente mecionadas y para así mostrar con claridad los resultados, para esto utilizamos graficos de barras y torta para cada columna."
      ],
      "metadata": {
        "id": "XFoG7Bt_SRt_"
      }
    },
    {
      "cell_type": "markdown",
      "source": [
        "**COLUMNA GENERO**"
      ],
      "metadata": {
        "id": "bZg1Sf-bixVy"
      }
    },
    {
      "cell_type": "code",
      "source": [
        "grafico_1 = original_df['GENERO'].value_counts().plot(kind='bar',title='GENERO')\n",
        "grafico_1"
      ],
      "metadata": {
        "colab": {
          "base_uri": "https://localhost:8080/",
          "height": 338
        },
        "id": "i-mRYfRGy4bO",
        "outputId": "326d16ca-969d-4f6b-c054-a0c59209d456"
      },
      "execution_count": null,
      "outputs": [
        {
          "output_type": "execute_result",
          "data": {
            "text/plain": [
              "<matplotlib.axes._subplots.AxesSubplot at 0x7f62af61e970>"
            ]
          },
          "metadata": {},
          "execution_count": 78
        },
        {
          "output_type": "display_data",
          "data": {
            "text/plain": [
              "<Figure size 432x288 with 1 Axes>"
            ],
            "image/png": "[encoded data removed]"
          },
          "metadata": {
            "needs_background": "light"
          }
        }
      ]
    },
    {
      "cell_type": "code",
      "source": [
        "grafico_2 = plot = (100 * original_df['GENERO'].value_counts() / len(original_df['GENERO'])).plot(kind = 'bar', title = '%GENERO', color='green')\n",
        "grafico_2"
      ],
      "metadata": {
        "colab": {
          "base_uri": "https://localhost:8080/",
          "height": 338
        },
        "id": "6bWNau23VKkY",
        "outputId": "1b48cbd1-7ab1-44dc-9419-c1233dbb3d65"
      },
      "execution_count": null,
      "outputs": [
        {
          "output_type": "execute_result",
          "data": {
            "text/plain": [
              "<matplotlib.axes._subplots.AxesSubplot at 0x7f62ac39dbb0>"
            ]
          },
          "metadata": {},
          "execution_count": 79
        },
        {
          "output_type": "display_data",
          "data": {
            "text/plain": [
              "<Figure size 432x288 with 1 Axes>"
            ],
            "image/png": "[encoded data removed]"
          },
          "metadata": {
            "needs_background": "light"
          }
        }
      ]
    },
    {
      "cell_type": "code",
      "source": [
        "grafico_3 = original_df['GENERO'].value_counts().plot(kind='pie', autopct = '%2.f', figsize = (6, 6), title = 'GENERO')\n",
        "grafico_3"
      ],
      "metadata": {
        "colab": {
          "base_uri": "https://localhost:8080/",
          "height": 390
        },
        "id": "oarayD8iVeDg",
        "outputId": "689b9d1a-ffe4-4a18-a21e-0cba26dc181e"
      },
      "execution_count": null,
      "outputs": [
        {
          "output_type": "execute_result",
          "data": {
            "text/plain": [
              "<matplotlib.axes._subplots.AxesSubplot at 0x7f62ac360f70>"
            ]
          },
          "metadata": {},
          "execution_count": 80
        },
        {
          "output_type": "display_data",
          "data": {
            "text/plain": [
              "<Figure size 432x432 with 1 Axes>"
            ],
            "image/png": "[encoded data removed]"
          },
          "metadata": {}
        }
      ]
    },
    {
      "cell_type": "markdown",
      "source": [
        "**COLUMNA ZONA**"
      ],
      "metadata": {
        "id": "lYUX28W1i3DH"
      }
    },
    {
      "cell_type": "code",
      "source": [
        "grafico_4 = original_df['ZONA'].value_counts().plot(kind='bar',title='ZONA')\n",
        "grafico_4"
      ],
      "metadata": {
        "colab": {
          "base_uri": "https://localhost:8080/",
          "height": 325
        },
        "id": "U1HLz93-i9IW",
        "outputId": "a49831ca-72ab-4658-fde6-0c5cabd8e2b6"
      },
      "execution_count": null,
      "outputs": [
        {
          "output_type": "execute_result",
          "data": {
            "text/plain": [
              "<matplotlib.axes._subplots.AxesSubplot at 0x7f62adf61490>"
            ]
          },
          "metadata": {},
          "execution_count": 81
        },
        {
          "output_type": "display_data",
          "data": {
            "text/plain": [
              "<Figure size 432x288 with 1 Axes>"
            ],
            "image/png": "[encoded data removed]"
          },
          "metadata": {
            "needs_background": "light"
          }
        }
      ]
    },
    {
      "cell_type": "code",
      "source": [
        "grafico_5 = plot = (100 * original_df['ZONA'].value_counts() / len(original_df['ZONA'])).plot(kind = 'bar', title = '%ZONA', color='red')\n",
        "grafico_5"
      ],
      "metadata": {
        "colab": {
          "base_uri": "https://localhost:8080/",
          "height": 325
        },
        "id": "QdjoIuj7i94Y",
        "outputId": "511340b4-3b41-4039-9a31-9624baab48c5"
      },
      "execution_count": null,
      "outputs": [
        {
          "output_type": "execute_result",
          "data": {
            "text/plain": [
              "<matplotlib.axes._subplots.AxesSubplot at 0x7f62ac4163a0>"
            ]
          },
          "metadata": {},
          "execution_count": 82
        },
        {
          "output_type": "display_data",
          "data": {
            "text/plain": [
              "<Figure size 432x288 with 1 Axes>"
            ],
            "image/png": "[encoded data removed]"
          },
          "metadata": {
            "needs_background": "light"
          }
        }
      ]
    },
    {
      "cell_type": "code",
      "source": [
        "grafico_6 = original_df['ZONA'].value_counts().plot(kind='pie', autopct = '%2.f', figsize = (6, 6), title = 'ZONA')\n",
        "grafico_6"
      ],
      "metadata": {
        "colab": {
          "base_uri": "https://localhost:8080/",
          "height": 390
        },
        "id": "QdLh1v8Li9pA",
        "outputId": "c0cad903-c5bf-4a7b-a5fb-615f556e02db"
      },
      "execution_count": null,
      "outputs": [
        {
          "output_type": "execute_result",
          "data": {
            "text/plain": [
              "<matplotlib.axes._subplots.AxesSubplot at 0x7f62ac448760>"
            ]
          },
          "metadata": {},
          "execution_count": 83
        },
        {
          "output_type": "display_data",
          "data": {
            "text/plain": [
              "<Figure size 432x432 with 1 Axes>"
            ],
            "image/png": "[encoded data removed]"
          },
          "metadata": {}
        }
      ]
    },
    {
      "cell_type": "markdown",
      "source": [
        "**COLUMNA NOMBRE_SEDE**"
      ],
      "metadata": {
        "id": "1-M85uw5i-ZY"
      }
    },
    {
      "cell_type": "code",
      "source": [
        "grafico_7 = original_df['NOMBRE_SEDE'].value_counts().plot(kind='bar',title='NOMBRE SEDE')\n",
        "grafico_7"
      ],
      "metadata": {
        "colab": {
          "base_uri": "https://localhost:8080/",
          "height": 534
        },
        "id": "_53fhQdpjmfu",
        "outputId": "7c4aeac6-0d7a-463d-9ea3-f3d6f4262b56"
      },
      "execution_count": null,
      "outputs": [
        {
          "output_type": "execute_result",
          "data": {
            "text/plain": [
              "<matplotlib.axes._subplots.AxesSubplot at 0x7f62ac4e2af0>"
            ]
          },
          "metadata": {},
          "execution_count": 84
        },
        {
          "output_type": "display_data",
          "data": {
            "text/plain": [
              "<Figure size 432x288 with 1 Axes>"
            ],
            "image/png": "[encoded data removed]"
          },
          "metadata": {
            "needs_background": "light"
          }
        }
      ]
    },
    {
      "cell_type": "code",
      "source": [
        "grafico_8 = plot = (100 * original_df['NOMBRE_SEDE'].value_counts() / len(original_df['NOMBRE_SEDE'])).plot(kind = 'bar', title = '%NOMBRE SEDE', color='purple')\n",
        "grafico_8"
      ],
      "metadata": {
        "colab": {
          "base_uri": "https://localhost:8080/",
          "height": 534
        },
        "id": "8HPo3RbZjmVC",
        "outputId": "36e74a28-aa7c-4cc1-af27-8b6cc773ba9f"
      },
      "execution_count": null,
      "outputs": [
        {
          "output_type": "execute_result",
          "data": {
            "text/plain": [
              "<matplotlib.axes._subplots.AxesSubplot at 0x7f62ae1fdd00>"
            ]
          },
          "metadata": {},
          "execution_count": 85
        },
        {
          "output_type": "display_data",
          "data": {
            "text/plain": [
              "<Figure size 432x288 with 1 Axes>"
            ],
            "image/png": "[encoded data removed]"
          },
          "metadata": {
            "needs_background": "light"
          }
        }
      ]
    },
    {
      "cell_type": "code",
      "source": [
        "grafico_9 = original_df['NOMBRE_SEDE'].value_counts().plot(kind='pie', autopct = '%2.f', figsize = (10, 10), title = 'NOMBRE SEDE')\n",
        "grafico_9"
      ],
      "metadata": {
        "colab": {
          "base_uri": "https://localhost:8080/",
          "height": 608
        },
        "id": "D7f7lC0yjmIt",
        "outputId": "2e046f7a-17ea-44e4-c2c8-5a2d562337b2"
      },
      "execution_count": null,
      "outputs": [
        {
          "output_type": "execute_result",
          "data": {
            "text/plain": [
              "<matplotlib.axes._subplots.AxesSubplot at 0x7f62ac49dee0>"
            ]
          },
          "metadata": {},
          "execution_count": 86
        },
        {
          "output_type": "display_data",
          "data": {
            "text/plain": [
              "<Figure size 720x720 with 1 Axes>"
            ],
            "image/png": "[encoded data removed]"
          },
          "metadata": {}
        }
      ]
    },
    {
      "cell_type": "markdown",
      "source": [
        "**3. INTERPRETACION DE LOS DATOS**\n",
        "\n",
        "\n",
        "\n"
      ],
      "metadata": {
        "id": "sbvqvqc0uGxM"
      }
    },
    {
      "cell_type": "markdown",
      "source": [
        "**CONCLUSION**\n",
        "\n",
        "A manera de conclusión podemos decir que el departamento de boyaca durante el periodo de 2018 hasta el año 2021 tuvo un incremento notable de estudiantes que ingresaban a las diferentes instituciones, siendo el grado 5 el que mas estudiantes recibio durante el periodo de estos cuatro años recibiendo estudiantes entre las edades de 9 a 10 años, esto lo podemos ver reflejo en los histogramas, tambien podemos concluir que el mayor numero de estudiante que ingreso a las intituciones educativas del departamento fueron hombres, obteniendo el 55% durante el periodo de los cuatro años, ademas que la zona en la que mas se acogia estudiantes es en la rural, lo que podemos atender que mas chicos de estas zonas estan teniendo accecibilidad al sistema educativo y por ende poder tener educación para seguir adquiriendo conocimientos, y por parte de la institucion principal llevandose la mayor cantidad de estos."
      ],
      "metadata": {
        "id": "K_UONo7kCdhF"
      }
    }
  ]
}